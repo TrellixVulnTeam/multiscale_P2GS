{
 "cells": [
  {
   "cell_type": "code",
   "execution_count": 1,
   "metadata": {},
   "outputs": [],
   "source": [
    "from pathlib import Path\n",
    "import SimpleITK as sitk\n",
    "import numpy as np\n",
    "%matplotlib widget\n",
    "import matplotlib.pyplot as plt\n",
    "\n",
    "import multiscale.itk.metadata as meta\n",
    "import multiscale.plotting as myplot\n",
    "from multiscale.itk.itk_plotting import MultiImageDisplay, RegistrationPointDataAcquisition\n",
    "import multiscale.itk.itk_plotting as iplot"
   ]
  },
  {
   "cell_type": "code",
   "execution_count": 2,
   "metadata": {},
   "outputs": [],
   "source": [
    "us_path = Path(r'F:\\Research\\LINK\\Phantom Trials\\2018-12-07\\Interleaved_5-1V_Sens0-6', 'Reslice of fused_tp_0_ch_0.tif')\n",
    "mpm_path = Path(r'F:\\Research\\LINK\\Phantom Trials\\2018-12-04', 'MPM Grid shrunk 16x in xy.tif')"
   ]
  },
  {
   "cell_type": "code",
   "execution_count": 3,
   "metadata": {},
   "outputs": [],
   "source": [
    "us_image = sitk.ReadImage(str(us_path))\n",
    "us_image.SetSpacing([25, 25, 25])\n",
    "mpm_image = sitk.ReadImage(str(mpm_path))\n",
    "mpm_image.SetSpacing([16, 16, 7.5])"
   ]
  },
  {
   "cell_type": "code",
   "execution_count": 4,
   "metadata": {},
   "outputs": [],
   "source": [
    "us_window = myplot.auto_window_level(sitk.GetArrayFromImage(us_image), return_image=False)\n",
    "mpm_window = myplot.auto_window_level(sitk.GetArrayFromImage(mpm_image), bins=200, upper_limit_fraction=0.3, lower_limit_fraction=0.05, return_image=False)"
   ]
  },
  {
   "cell_type": "code",
   "execution_count": 5,
   "metadata": {},
   "outputs": [
    {
     "data": {
      "application/vnd.jupyter.widget-view+json": {
       "model_id": "3b2d59891fc0483b8a50d2af24fddf08",
       "version_major": 2,
       "version_minor": 0
      },
      "text/plain": [
       "Box(children=(IntSlider(value=20, description='image slice:', max=40), IntSlider(value=0, description='image s…"
      ]
     },
     "metadata": {},
     "output_type": "display_data"
    },
    {
     "data": {
      "application/vnd.jupyter.widget-view+json": {
       "model_id": "b5f95cf47ff94c2a90c40020ee1a32b6",
       "version_major": 2,
       "version_minor": 0
      },
      "text/plain": [
       "FigureCanvasNbAgg()"
      ]
     },
     "metadata": {},
     "output_type": "display_data"
    },
    {
     "data": {
      "text/plain": [
       "<multiscale.itk.itk_plotting.MultiImageDisplay at 0x293b7eeacf8>"
      ]
     },
     "execution_count": 5,
     "metadata": {},
     "output_type": "execute_result"
    }
   ],
   "source": [
    "MultiImageDisplay([us_image, mpm_image], title_list=['US', 'MPM'])"
   ]
  },
  {
   "cell_type": "code",
   "execution_count": 6,
   "metadata": {},
   "outputs": [
    {
     "data": {
      "application/vnd.jupyter.widget-view+json": {
       "model_id": "1cfe62c1bb27407aaae25356c6bee702",
       "version_major": 2,
       "version_minor": 0
      },
      "text/plain": [
       "HBox(children=(HBox(children=(Box(children=(RadioButtons(description='Interaction mode:', options=('edit', 'vi…"
      ]
     },
     "metadata": {},
     "output_type": "display_data"
    },
    {
     "data": {
      "application/vnd.jupyter.widget-view+json": {
       "model_id": "53545e37d20a4d038e011ca785c4255b",
       "version_major": 2,
       "version_minor": 0
      },
      "text/plain": [
       "FigureCanvasNbAgg()"
      ]
     },
     "metadata": {},
     "output_type": "display_data"
    }
   ],
   "source": [
    "points = RegistrationPointDataAcquisition(us_image, mpm_image)"
   ]
  },
  {
   "cell_type": "code",
   "execution_count": 8,
   "metadata": {},
   "outputs": [
    {
     "name": "stdout",
     "output_type": "stream",
     "text": [
      "[19448.77564964158, 8804.428539426528, 500.0, 19863.14840949821, 5655.195564516129, 500.0, 8757.9584453405, 8224.306675627242, 500.0, 12984.560595878136, 24136.22065412187, 500.0]\n"
     ]
    }
   ],
   "source": [
    "fixed_image_points, moving_image_points = points.get_points_flat()\n",
    "print(fixed_image_points)"
   ]
  },
  {
   "cell_type": "code",
   "execution_count": 9,
   "metadata": {},
   "outputs": [
    {
     "name": "stdout",
     "output_type": "stream",
     "text": [
      "itk::simple::Transform\n",
      " VersorRigid3DTransform (00000293B31A8B70)\n",
      "   RTTI typeinfo:   class itk::VersorRigid3DTransform<double>\n",
      "   Reference Count: 1\n",
      "   Modified Time: 1160\n",
      "   Debug: Off\n",
      "   Object Name: \n",
      "   Observers: \n",
      "     none\n",
      "   Matrix: \n",
      "     0.99915 -0.0412237 0 \n",
      "     0.0412237 0.99915 0 \n",
      "     0 0 1 \n",
      "   Offset: [-5963.65, -3603.06, -500]\n",
      "   Center: [15263.6, 11705, 500]\n",
      "   Translation: [-6459.14, -2983.79, -500]\n",
      "   Inverse: \n",
      "     0.99915 0.0412237 0 \n",
      "     -0.0412237 0.99915 0 \n",
      "     0 0 1 \n",
      "   Singular: 0\n",
      "   Versor: [ 0, 0, 0.0206162, 0.999787 ]\n",
      "\n"
     ]
    }
   ],
   "source": [
    "\n",
    "initial_transform = sitk.LandmarkBasedTransformInitializer(sitk.VersorRigid3DTransform(), \n",
    "                                                                fixed_image_points, \n",
    "                                                                moving_image_points)\n",
    "print(initial_transform)"
   ]
  },
  {
   "cell_type": "code",
   "execution_count": 10,
   "metadata": {},
   "outputs": [],
   "source": [
    "registered_image = sitk.Resample(mpm_image, us_image, initial_transform, sitk.sitkLinear, 0.0, mpm_image.GetPixelID())"
   ]
  },
  {
   "cell_type": "code",
   "execution_count": 11,
   "metadata": {},
   "outputs": [
    {
     "data": {
      "application/vnd.jupyter.widget-view+json": {
       "model_id": "a7377fb7fc8c41a6bb8dda9debca4122",
       "version_major": 2,
       "version_minor": 0
      },
      "text/plain": [
       "Box(children=(IntSlider(value=20, description='image slice:', max=40), IntSlider(value=20, description='image …"
      ]
     },
     "metadata": {},
     "output_type": "display_data"
    },
    {
     "data": {
      "application/vnd.jupyter.widget-view+json": {
       "model_id": "41af49d81f23475f88908d80c2e769c1",
       "version_major": 2,
       "version_minor": 0
      },
      "text/plain": [
       "FigureCanvasNbAgg()"
      ]
     },
     "metadata": {},
     "output_type": "display_data"
    },
    {
     "data": {
      "text/plain": [
       "<multiscale.itk.itk_plotting.MultiImageDisplay at 0x293ba728b70>"
      ]
     },
     "execution_count": 11,
     "metadata": {},
     "output_type": "execute_result"
    }
   ],
   "source": [
    "MultiImageDisplay([us_image, registered_image], title_list=['US', 'MPM'])"
   ]
  },
  {
   "cell_type": "code",
   "execution_count": 13,
   "metadata": {},
   "outputs": [
    {
     "data": {
      "application/vnd.jupyter.widget-view+json": {
       "model_id": "50c6f036d5c6461b9980d7e82866d81c",
       "version_major": 2,
       "version_minor": 0
      },
      "text/plain": [
       "FigureCanvasNbAgg()"
      ]
     },
     "metadata": {},
     "output_type": "display_data"
    },
    {
     "data": {
      "text/plain": [
       "<matplotlib.image.AxesImage at 0x29381a79e80>"
      ]
     },
     "execution_count": 13,
     "metadata": {},
     "output_type": "execute_result"
    }
   ],
   "source": [
    "overlay = iplot.overlay_images(us_image, registered_image, slice=20)\n",
    "fig, ax = plt.subplots()\n",
    "ax.imshow(overlay)"
   ]
  },
  {
   "cell_type": "code",
   "execution_count": null,
   "metadata": {},
   "outputs": [],
   "source": []
  }
 ],
 "metadata": {
  "kernelspec": {
   "display_name": "Python 3",
   "language": "python",
   "name": "python3"
  },
  "language_info": {
   "codemirror_mode": {
    "name": "ipython",
    "version": 3
   },
   "file_extension": ".py",
   "mimetype": "text/x-python",
   "name": "python",
   "nbconvert_exporter": "python",
   "pygments_lexer": "ipython3",
   "version": "3.6.6"
  }
 },
 "nbformat": 4,
 "nbformat_minor": 2
}
