{
 "cells": [
  {
   "cell_type": "code",
   "execution_count": 1,
   "metadata": {},
   "outputs": [],
   "source": [
    "from pathlib import Path\n",
    "import SimpleITK as sitk\n",
    "import numpy as np\n",
    "%matplotlib widget\n",
    "import matplotlib.pyplot as plt\n",
    "\n",
    "import multiscale.itk.metadata as meta\n",
    "import multiscale.plotting as myplot\n",
    "from multiscale.itk.itk_plotting import MultiImageDisplay, RegistrationPointDataAcquisition\n"
   ]
  },
  {
   "cell_type": "code",
   "execution_count": 2,
   "metadata": {},
   "outputs": [],
   "source": [
    "us_path = Path(r'F:\\Research\\LINK\\Phantom Trials\\2018-12-07\\Interleaved_5-1V_Sens0-6', 'Reslice of fused_tp_0_ch_0.tif')\n",
    "mpm_path = Path(r'F:\\Research\\LINK\\Phantom Trials\\2018-12-04', 'MPM Grid shrunk 16x in xy.tif')"
   ]
  },
  {
   "cell_type": "code",
   "execution_count": 3,
   "metadata": {},
   "outputs": [],
   "source": [
    "us_image = sitk.ReadImage(str(us_path))\n",
    "us_image.SetSpacing([25, 25, 25])\n",
    "mpm_image = sitk.ReadImage(str(mpm_path))\n",
    "mpm_image.SetSpacing([16, 16, 7.5])"
   ]
  },
  {
   "cell_type": "code",
   "execution_count": 4,
   "metadata": {},
   "outputs": [],
   "source": [
    "us_window = myplot.auto_window_level(sitk.GetArrayFromImage(us_image), return_image=False)\n",
    "mpm_window = myplot.auto_window_level(sitk.GetArrayFromImage(mpm_image), bins=200, upper_limit_fraction=0.3, lower_limit_fraction=0.05, return_image=False)"
   ]
  },
  {
   "cell_type": "code",
   "execution_count": 5,
   "metadata": {},
   "outputs": [
    {
     "data": {
      "application/vnd.jupyter.widget-view+json": {
       "model_id": "39ca92e2491c4da8addb8f0529247f4e",
       "version_major": 2,
       "version_minor": 0
      },
      "text/plain": [
       "Box(children=(IntSlider(value=20, description='image slice:', max=40), IntSlider(value=0, description='image s…"
      ]
     },
     "metadata": {},
     "output_type": "display_data"
    },
    {
     "data": {
      "application/vnd.jupyter.widget-view+json": {
       "model_id": "e405ede05165456292cb8cd97eee67d9",
       "version_major": 2,
       "version_minor": 0
      },
      "text/plain": [
       "FigureCanvasNbAgg()"
      ]
     },
     "metadata": {},
     "output_type": "display_data"
    },
    {
     "data": {
      "text/plain": [
       "<multiscale.itk.itk_plotting.MultiImageDisplay at 0x2bc8bf99cc0>"
      ]
     },
     "execution_count": 5,
     "metadata": {},
     "output_type": "execute_result"
    }
   ],
   "source": [
    "MultiImageDisplay([us_image, mpm_image], title_list=['US', 'MPM'])"
   ]
  },
  {
   "cell_type": "code",
   "execution_count": 11,
   "metadata": {},
   "outputs": [
    {
     "data": {
      "application/vnd.jupyter.widget-view+json": {
       "model_id": "c8ef2b40352644ffad3c6cfb6fe544c7",
       "version_major": 2,
       "version_minor": 0
      },
      "text/plain": [
       "HBox(children=(HBox(children=(Box(children=(RadioButtons(description='Interaction mode:', options=('edit', 'vi…"
      ]
     },
     "metadata": {},
     "output_type": "display_data"
    },
    {
     "data": {
      "application/vnd.jupyter.widget-view+json": {
       "model_id": "9a0a4cc4c61448de981efb2f204bd272",
       "version_major": 2,
       "version_minor": 0
      },
      "text/plain": [
       "FigureCanvasNbAgg()"
      ]
     },
     "metadata": {},
     "output_type": "display_data"
    }
   ],
   "source": [
    "points = RegistrationPointDataAcquisition(us_image, mpm_image)"
   ]
  },
  {
   "cell_type": "code",
   "execution_count": 12,
   "metadata": {},
   "outputs": [
    {
     "name": "stdout",
     "output_type": "stream",
     "text": [
      "[8757.9584453405, 8307.181227598569, 500.0, 13067.435147849463, 23887.59699820789, 500.0, 11658.567764336916, 21235.611335125453, 500.0, 19283.026545698925, 8804.428539426528, 500.0]\n"
     ]
    }
   ],
   "source": [
    "fixed_image_points, moving_image_points = points.get_points_flat()\n",
    "print(fixed_image_points)"
   ]
  },
  {
   "cell_type": "code",
   "execution_count": 13,
   "metadata": {},
   "outputs": [
    {
     "name": "stdout",
     "output_type": "stream",
     "text": [
      "itk::simple::Transform\n",
      " VersorRigid3DTransform (000002BC872F7B70)\n",
      "   RTTI typeinfo:   class itk::VersorRigid3DTransform<double>\n",
      "   Reference Count: 1\n",
      "   Modified Time: 1185\n",
      "   Debug: Off\n",
      "   Object Name: \n",
      "   Observers: \n",
      "     none\n",
      "   Matrix: \n",
      "     0.999057 -0.0434269 0 \n",
      "     0.0434269 0.999057 0 \n",
      "     0 0 1 \n",
      "   Offset: [-5900.52, -3707.68, -500]\n",
      "   Center: [13191.7, 15558.7, 500]\n",
      "   Translation: [-6588.63, -3149.48, -500]\n",
      "   Inverse: \n",
      "     0.999057 0.0434269 0 \n",
      "     -0.0434269 0.999057 0 \n",
      "     0 0 1 \n",
      "   Singular: 0\n",
      "   Versor: [ 0, 0, 0.0217186, 0.999764 ]\n",
      "\n"
     ]
    }
   ],
   "source": [
    "\n",
    "initial_transform = sitk.LandmarkBasedTransformInitializer(sitk.VersorRigid3DTransform(), \n",
    "                                                                fixed_image_points, \n",
    "                                                                moving_image_points)\n",
    "print(initial_transform)"
   ]
  },
  {
   "cell_type": "code",
   "execution_count": 14,
   "metadata": {},
   "outputs": [],
   "source": [
    "registered_image = sitk.Resample(mpm_image, us_image, initial_transform, sitk.sitkLinear, 0.0, mpm_image.GetPixelID())"
   ]
  },
  {
   "cell_type": "code",
   "execution_count": 15,
   "metadata": {},
   "outputs": [
    {
     "data": {
      "application/vnd.jupyter.widget-view+json": {
       "model_id": "1a8478ee8cb14cee84f3de4e8a47082a",
       "version_major": 2,
       "version_minor": 0
      },
      "text/plain": [
       "Box(children=(IntSlider(value=20, description='image slice:', max=40), IntSlider(value=20, description='image …"
      ]
     },
     "metadata": {},
     "output_type": "display_data"
    },
    {
     "data": {
      "application/vnd.jupyter.widget-view+json": {
       "model_id": "eed26c26ede74ab68e3b0da0c4e4d922",
       "version_major": 2,
       "version_minor": 0
      },
      "text/plain": [
       "FigureCanvasNbAgg()"
      ]
     },
     "metadata": {},
     "output_type": "display_data"
    },
    {
     "data": {
      "text/plain": [
       "<multiscale.itk.itk_plotting.MultiImageDisplay at 0x2bc8ebaa390>"
      ]
     },
     "execution_count": 15,
     "metadata": {},
     "output_type": "execute_result"
    }
   ],
   "source": [
    "MultiImageDisplay([us_image, registered_image], title_list=['US', 'MPM'])"
   ]
  },
  {
   "cell_type": "code",
   "execution_count": null,
   "metadata": {},
   "outputs": [],
   "source": []
  }
 ],
 "metadata": {
  "kernelspec": {
   "display_name": "Python 3",
   "language": "python",
   "name": "python3"
  },
  "language_info": {
   "codemirror_mode": {
    "name": "ipython",
    "version": 3
   },
   "file_extension": ".py",
   "mimetype": "text/x-python",
   "name": "python",
   "nbconvert_exporter": "python",
   "pygments_lexer": "ipython3",
   "version": "3.6.6"
  }
 },
 "nbformat": 4,
 "nbformat_minor": 2
}
