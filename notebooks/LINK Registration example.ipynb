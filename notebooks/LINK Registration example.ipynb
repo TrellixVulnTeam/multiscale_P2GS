{
 "cells": [
  {
   "cell_type": "code",
   "execution_count": 2,
   "metadata": {},
   "outputs": [
    {
     "name": "stdout",
     "output_type": "stream",
     "text": [
      "Warning: Cannot change to a different GUI toolkit: notebook. Using widget instead.\n"
     ]
    }
   ],
   "source": [
    "from pathlib import Path\n",
    "import SimpleITK as sitk\n",
    "import numpy as np\n",
    "%matplotlib notebook\n",
    "import matplotlib.pyplot as plt\n",
    "\n",
    "import multiscale.itk.metadata as meta\n",
    "import multiscale.itk.registration as reg\n",
    "import multiscale.plotting as myplot\n",
    "from multiscale.itk.itk_plotting import MultiImageDisplay, RegistrationPointDataAcquisition\n",
    "import multiscale.itk.itk_plotting as iplot"
   ]
  },
  {
   "cell_type": "code",
   "execution_count": 3,
   "metadata": {},
   "outputs": [],
   "source": [
    "us_path = Path(r'F:\\Research\\LINK\\Phantom Trials\\2018-12-07\\Interleaved_5-1V_Sens0-6', 'Reslice of fused_tp_0_ch_0.tif')\n",
    "mpm_path = Path(r'F:\\Research\\LINK\\Phantom Trials\\2018-12-04', 'MPM Grid shrunk 16x in xy.tif')"
   ]
  },
  {
   "cell_type": "code",
   "execution_count": 4,
   "metadata": {},
   "outputs": [],
   "source": [
    "us_image = sitk.ReadImage(str(us_path))\n",
    "us_image.SetSpacing([25, 25, 25])\n",
    "mpm_image = sitk.ReadImage(str(mpm_path))\n",
    "mpm_image.SetSpacing([16, 16, 7.5])"
   ]
  },
  {
   "cell_type": "code",
   "execution_count": 5,
   "metadata": {},
   "outputs": [],
   "source": [
    "us_window = myplot.auto_window_level(sitk.GetArrayFromImage(us_image), return_image=False)\n",
    "mpm_window = myplot.auto_window_level(sitk.GetArrayFromImage(mpm_image), bins=200, upper_limit_fraction=0.3, lower_limit_fraction=0.05, return_image=False)"
   ]
  },
  {
   "cell_type": "code",
   "execution_count": 6,
   "metadata": {},
   "outputs": [
    {
     "data": {
      "application/vnd.jupyter.widget-view+json": {
       "model_id": "ea5a276ac05f456f9d7e7d7f5f847a2f",
       "version_major": 2,
       "version_minor": 0
      },
      "text/plain": [
       "Box(children=(IntSlider(value=0, description='image slice:', max=1), IntSlider(value=20, description='image sl…"
      ]
     },
     "metadata": {},
     "output_type": "display_data"
    },
    {
     "data": {
      "application/vnd.jupyter.widget-view+json": {
       "model_id": "717db44030574bbf888f660cacbacb76",
       "version_major": 2,
       "version_minor": 0
      },
      "text/plain": [
       "FigureCanvasNbAgg()"
      ]
     },
     "metadata": {},
     "output_type": "display_data"
    },
    {
     "data": {
      "text/plain": [
       "<multiscale.itk.itk_plotting.MultiImageDisplay at 0x14980f822e8>"
      ]
     },
     "execution_count": 6,
     "metadata": {},
     "output_type": "execute_result"
    }
   ],
   "source": [
    "MultiImageDisplay([mpm_image, us_image], title_list=['MPM', 'US'])"
   ]
  },
  {
   "cell_type": "markdown",
   "metadata": {},
   "source": [
    "The US image must be the moving image, as the MPM image is too sparse/too small with zero values for registration to work properly.  At least for the 2 slice example we are working on."
   ]
  },
  {
   "cell_type": "code",
   "execution_count": 6,
   "metadata": {},
   "outputs": [
    {
     "data": {
      "application/vnd.jupyter.widget-view+json": {
       "model_id": "7e00a38fbba34397b11ac3aa22f81b06",
       "version_major": 2,
       "version_minor": 0
      },
      "text/plain": [
       "HBox(children=(HBox(children=(Box(children=(RadioButtons(description='Interaction mode:', options=('edit', 'vi…"
      ]
     },
     "metadata": {},
     "output_type": "display_data"
    },
    {
     "data": {
      "application/vnd.jupyter.widget-view+json": {
       "model_id": "00fab433485a4e71b671708ef13e27a5",
       "version_major": 2,
       "version_minor": 0
      },
      "text/plain": [
       "FigureCanvasNbAgg()"
      ]
     },
     "metadata": {},
     "output_type": "display_data"
    }
   ],
   "source": [
    "points = RegistrationPointDataAcquisition(mpm_image, us_image)"
   ]
  },
  {
   "cell_type": "code",
   "execution_count": 7,
   "metadata": {},
   "outputs": [],
   "source": [
    "fixed_image_points, moving_image_points = points.get_points_flat()\n",
    "\n",
    "# Presets\n",
    "if len(moving_image_points) == 0:\n",
    "    moving_image_points = [19448.77564964158, 8804.428539426528, 500.0, 19863.14840949821, 5655.195564516129, 500.0, 8757.9584453405, 8224.306675627242, 500.0, 12984.560595878136, 24136.22065412187, 500.0]\n",
    "if len(fixed_image_points) == 0:\n",
    "    fixed_image_points = [13164.282365591407, 5833.761577060937, 0.0, 13678.883655913985, 2860.509677419359, 0.0, 2472.0111111111146, 5147.626523297495, 0.0, 5902.68637992832, 21043.088602150536, 0.0]"
   ]
  },
  {
   "cell_type": "code",
   "execution_count": 8,
   "metadata": {},
   "outputs": [
    {
     "name": "stdout",
     "output_type": "stream",
     "text": [
      "itk::simple::Transform\n",
      " VersorRigid3DTransform (0000019252601520)\n",
      "   RTTI typeinfo:   class itk::VersorRigid3DTransform<double>\n",
      "   Reference Count: 1\n",
      "   Modified Time: 1160\n",
      "   Debug: Off\n",
      "   Object Name: \n",
      "   Observers: \n",
      "     none\n",
      "   Matrix: \n",
      "     0.99915 0.0412237 0 \n",
      "     -0.0412237 0.99915 0 \n",
      "     0 0 1 \n",
      "   Offset: [6107.11, 3354.16, 500]\n",
      "   Center: [8804.47, 8721.25, 0]\n",
      "   Translation: [6459.14, 2983.79, 500]\n",
      "   Inverse: \n",
      "     0.99915 -0.0412237 0 \n",
      "     0.0412237 0.99915 0 \n",
      "     0 0 1 \n",
      "   Singular: 0\n",
      "   Versor: [ -0, -0, -0.0206162, 0.999787 ]\n",
      "\n"
     ]
    }
   ],
   "source": [
    "\n",
    "initial_transform = sitk.LandmarkBasedTransformInitializer(sitk.VersorRigid3DTransform(), \n",
    "                                                                fixed_image_points, \n",
    "                                                                moving_image_points)\n",
    "print(initial_transform)"
   ]
  },
  {
   "cell_type": "code",
   "execution_count": 9,
   "metadata": {},
   "outputs": [],
   "source": [
    "initialized_image = sitk.Resample(us_image, mpm_image, initial_transform, sitk.sitkLinear, 0.0, mpm_image.GetPixelID())"
   ]
  },
  {
   "cell_type": "code",
   "execution_count": 10,
   "metadata": {},
   "outputs": [
    {
     "data": {
      "application/vnd.jupyter.widget-view+json": {
       "model_id": "011950041f14495d9d262f34c506b8c2",
       "version_major": 2,
       "version_minor": 0
      },
      "text/plain": [
       "Box(children=(IntSlider(value=0, description='image slice:', max=1), IntSlider(value=0, description='image sli…"
      ]
     },
     "metadata": {},
     "output_type": "display_data"
    },
    {
     "data": {
      "application/vnd.jupyter.widget-view+json": {
       "model_id": "31895a10a48444118ecc3beaf6d45d96",
       "version_major": 2,
       "version_minor": 0
      },
      "text/plain": [
       "FigureCanvasNbAgg()"
      ]
     },
     "metadata": {},
     "output_type": "display_data"
    },
    {
     "data": {
      "text/plain": [
       "<multiscale.itk.itk_plotting.MultiImageDisplay at 0x1925ac51518>"
      ]
     },
     "execution_count": 10,
     "metadata": {},
     "output_type": "execute_result"
    }
   ],
   "source": [
    "MultiImageDisplay([mpm_image, initialized_image], title_list=['MPM', 'US'])"
   ]
  },
  {
   "cell_type": "code",
   "execution_count": 11,
   "metadata": {},
   "outputs": [
    {
     "data": {
      "application/vnd.jupyter.widget-view+json": {
       "model_id": "9120bfc87db04af4aaede06508187812",
       "version_major": 2,
       "version_minor": 0
      },
      "text/plain": [
       "FigureCanvasNbAgg()"
      ]
     },
     "metadata": {},
     "output_type": "display_data"
    },
    {
     "data": {
      "text/plain": [
       "<matplotlib.image.AxesImage at 0x1925d6fdcf8>"
      ]
     },
     "execution_count": 11,
     "metadata": {},
     "output_type": "execute_result"
    }
   ],
   "source": [
    "overlay = iplot.overlay_images(mpm_image, initialized_image, slice=0)\n",
    "fig, ax = plt.subplots()\n",
    "ax.imshow(overlay)"
   ]
  },
  {
   "cell_type": "code",
   "execution_count": 15,
   "metadata": {},
   "outputs": [],
   "source": [
    "size = list(mpm_image.GetSize())\n",
    "size[2] = size[2] + 3\n",
    "reference_image = sitk.Image(size, mpm_image.GetPixelID())\n",
    "reference_image.SetOrigin(mpm_image.GetOrigin())\n",
    "reference_image.SetSpacing(mpm_image.GetSpacing())\n",
    "reference_image.SetDirection(mpm_image.GetDirection())\n",
    "\n",
    "mpm_image_extended = sitk.Resample(mpm_image, reference_image, sitk.AffineTransform(3), sitk.sitkLinear, 0.0, mpm_image.GetPixelID())"
   ]
  },
  {
   "cell_type": "code",
   "execution_count": 16,
   "metadata": {},
   "outputs": [
    {
     "name": "stdout",
     "output_type": "stream",
     "text": [
      "RegularStepGradientDescentOptimizerv4: Maximum number of iterations (100) exceeded.\n",
      "-0.11605432244044712\n"
     ]
    },
    {
     "ename": "IndexError",
     "evalue": "index 20 is out of bounds for axis 0 with size 2",
     "output_type": "error",
     "traceback": [
      "\u001b[1;31m---------------------------------------------------------------------------\u001b[0m",
      "\u001b[1;31mIndexError\u001b[0m                                Traceback (most recent call last)",
      "\u001b[1;32m<ipython-input-16-8d983e8ffa75>\u001b[0m in \u001b[0;36m<module>\u001b[1;34m()\u001b[0m\n\u001b[0;32m      4\u001b[0m \u001b[0mregistered_image\u001b[0m \u001b[1;33m=\u001b[0m \u001b[0msitk\u001b[0m\u001b[1;33m.\u001b[0m\u001b[0mResample\u001b[0m\u001b[1;33m(\u001b[0m\u001b[0mus_image\u001b[0m\u001b[1;33m,\u001b[0m \u001b[0mmpm_image\u001b[0m\u001b[1;33m,\u001b[0m \u001b[0mfinal_transform\u001b[0m\u001b[1;33m,\u001b[0m \u001b[0msitk\u001b[0m\u001b[1;33m.\u001b[0m\u001b[0msitkLinear\u001b[0m\u001b[1;33m,\u001b[0m \u001b[1;36m0.0\u001b[0m\u001b[1;33m,\u001b[0m \u001b[0mmpm_image\u001b[0m\u001b[1;33m.\u001b[0m\u001b[0mGetPixelID\u001b[0m\u001b[1;33m(\u001b[0m\u001b[1;33m)\u001b[0m\u001b[1;33m)\u001b[0m\u001b[1;33m\u001b[0m\u001b[0m\n\u001b[0;32m      5\u001b[0m \u001b[1;33m\u001b[0m\u001b[0m\n\u001b[1;32m----> 6\u001b[1;33m \u001b[0moverlay_final\u001b[0m \u001b[1;33m=\u001b[0m \u001b[0miplot\u001b[0m\u001b[1;33m.\u001b[0m\u001b[0moverlay_images\u001b[0m\u001b[1;33m(\u001b[0m\u001b[0mmpm_image\u001b[0m\u001b[1;33m,\u001b[0m \u001b[0mregistered_image\u001b[0m\u001b[1;33m,\u001b[0m \u001b[0mslice\u001b[0m\u001b[1;33m=\u001b[0m\u001b[1;36m20\u001b[0m\u001b[1;33m)\u001b[0m\u001b[1;33m\u001b[0m\u001b[0m\n\u001b[0m\u001b[0;32m      7\u001b[0m \u001b[0mfig2\u001b[0m\u001b[1;33m,\u001b[0m \u001b[0max2\u001b[0m \u001b[1;33m=\u001b[0m \u001b[0mplt\u001b[0m\u001b[1;33m.\u001b[0m\u001b[0msubplots\u001b[0m\u001b[1;33m(\u001b[0m\u001b[1;33m)\u001b[0m\u001b[1;33m\u001b[0m\u001b[0m\n\u001b[0;32m      8\u001b[0m \u001b[0max2\u001b[0m\u001b[1;33m.\u001b[0m\u001b[0mimshow\u001b[0m\u001b[1;33m(\u001b[0m\u001b[0moverlay_final\u001b[0m\u001b[1;33m)\u001b[0m\u001b[1;33m\u001b[0m\u001b[0m\n",
      "\u001b[1;32mc:\\users\\mpinkert\\documents\\github\\multiscale\\multiscale\\itk\\itk_plotting.py\u001b[0m in \u001b[0;36moverlay_images\u001b[1;34m(fixed_image, moving_image, slice, window_level)\u001b[0m\n\u001b[0;32m    140\u001b[0m                 \u001b[0mcombined_array\u001b[0m \u001b[1;33m=\u001b[0m \u001b[0mmyplot\u001b[0m\u001b[1;33m.\u001b[0m\u001b[0moverlay_arrays_red_green\u001b[0m\u001b[1;33m(\u001b[0m\u001b[0mfixed_array\u001b[0m\u001b[1;33m,\u001b[0m \u001b[0mmoving_array\u001b[0m\u001b[1;33m)\u001b[0m\u001b[1;33m\u001b[0m\u001b[0m\n\u001b[0;32m    141\u001b[0m         \u001b[1;32melse\u001b[0m\u001b[1;33m:\u001b[0m\u001b[1;33m\u001b[0m\u001b[0m\n\u001b[1;32m--> 142\u001b[1;33m                 \u001b[0mcombined_array\u001b[0m \u001b[1;33m=\u001b[0m \u001b[0mmyplot\u001b[0m\u001b[1;33m.\u001b[0m\u001b[0moverlay_arrays_red_green\u001b[0m\u001b[1;33m(\u001b[0m\u001b[0mfixed_array\u001b[0m\u001b[1;33m[\u001b[0m\u001b[0mslice\u001b[0m\u001b[1;33m]\u001b[0m\u001b[1;33m,\u001b[0m \u001b[0mmoving_array\u001b[0m\u001b[1;33m[\u001b[0m\u001b[0mslice\u001b[0m\u001b[1;33m]\u001b[0m\u001b[1;33m)\u001b[0m\u001b[1;33m\u001b[0m\u001b[0m\n\u001b[0m\u001b[0;32m    143\u001b[0m \u001b[1;33m\u001b[0m\u001b[0m\n\u001b[0;32m    144\u001b[0m         \u001b[1;32mreturn\u001b[0m \u001b[0mcombined_array\u001b[0m\u001b[1;33m\u001b[0m\u001b[0m\n",
      "\u001b[1;31mIndexError\u001b[0m: index 20 is out of bounds for axis 0 with size 2"
     ]
    }
   ],
   "source": [
    "final_transform, metric, stop = reg.register(mpm_image_extended, us_image, initial_transform=initial_transform)\n",
    "print(stop)\n",
    "print(metric)\n",
    "registered_image = sitk.Resample(us_image, mpm_image, final_transform, sitk.sitkLinear, 0.0, mpm_image.GetPixelID())\n"
   ]
  },
  {
   "cell_type": "code",
   "execution_count": 17,
   "metadata": {},
   "outputs": [
    {
     "data": {
      "application/vnd.jupyter.widget-view+json": {
       "model_id": "08533244002145c0a9a3aef5509f6c09",
       "version_major": 2,
       "version_minor": 0
      },
      "text/plain": [
       "FigureCanvasNbAgg()"
      ]
     },
     "metadata": {},
     "output_type": "display_data"
    },
    {
     "data": {
      "text/plain": [
       "<matplotlib.image.AxesImage at 0x1eb8e9d5d30>"
      ]
     },
     "execution_count": 17,
     "metadata": {},
     "output_type": "execute_result"
    }
   ],
   "source": [
    "\n",
    "overlay_final = iplot.overlay_images(mpm_image, registered_image, slice=0)\n",
    "fig2, ax2 = plt.subplots()\n",
    "ax2.imshow(overlay_final)"
   ]
  },
  {
   "cell_type": "code",
   "execution_count": null,
   "metadata": {},
   "outputs": [],
   "source": []
  },
  {
   "cell_type": "code",
   "execution_count": null,
   "metadata": {},
   "outputs": [],
   "source": []
  }
 ],
 "metadata": {
  "kernelspec": {
   "display_name": "Python 3",
   "language": "python",
   "name": "python3"
  },
  "language_info": {
   "codemirror_mode": {
    "name": "ipython",
    "version": 3
   },
   "file_extension": ".py",
   "mimetype": "text/x-python",
   "name": "python",
   "nbconvert_exporter": "python",
   "pygments_lexer": "ipython3",
   "version": "3.6.6"
  }
 },
 "nbformat": 4,
 "nbformat_minor": 2
}
