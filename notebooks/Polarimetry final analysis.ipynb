{
 "cells": [
  {
   "cell_type": "code",
   "execution_count": 86,
   "metadata": {},
   "outputs": [],
   "source": [
    "import multiscale.polarimetry.task_scripts.data_analysis as dan\n",
    "import importlib\n",
    "import multiscale.statistics as mstat\n",
    "importlib.reload(mstat)\n",
    "from pathlib import Path\n",
    "import pandas as pd\n",
    "import numpy as np"
   ]
  },
  {
   "cell_type": "code",
   "execution_count": 2,
   "metadata": {},
   "outputs": [],
   "source": [
    "path_shg = Path(r'F:\\Research\\Polarimetry\\Data 04 - Analysis results and graphics', 'Curve-Align_ROIs.csv')\n",
    "path_average = Path(r'F:\\Research\\Polarimetry\\Data 04 - Analysis results and graphics',\n",
    "                            'ROIs_averaged_from_base_image_old.csv')\n",
    "path_fibs = Path(r'F:\\Research\\Polarimetry\\Data 04 - Analysis results and graphics\\Curve Align',\n",
    "                         'CA_FibNum_SHG.csv')\n",
    "ret_thresh = 0.5"
   ]
  },
  {
   "cell_type": "code",
   "execution_count": 3,
   "metadata": {},
   "outputs": [],
   "source": [
    "df_corrs_orient, df_corrs_align, df_corrs_ret = dan.run_roi_averages_comparison(ret_thresh)"
   ]
  },
  {
   "cell_type": "code",
   "execution_count": 7,
   "metadata": {},
   "outputs": [
    {
     "name": "stdout",
     "output_type": "stream",
     "text": [
      "Warning: n less than 4 for a calculation.  Returning a SE of 2.\n",
      "Warning: n less than 4 for a calculation.  Returning a SE of 2.\n"
     ]
    },
    {
     "data": {
      "text/plain": [
       "{'Wild benign-Wild cancer': 0.9976164493276646,\n",
       " 'Wild benign-Col1 benign': 0.897643359440912,\n",
       " 'Wild benign-Col1 cancer': 0.9655272112667976,\n",
       " 'Wild cancer-Col1 benign': 0.8940382473036499,\n",
       " 'Wild cancer-Col1 cancer': 0.9649222417201941,\n",
       " 'Col1 benign-Col1 cancer': 0.9489183228410749}"
      ]
     },
     "execution_count": 7,
     "metadata": {},
     "output_type": "execute_result"
    }
   ],
   "source": [
    "ml_p = dan.p_value_between_phenotypes(df_corrs_orient['MLR-SHG'])\n",
    "ml_p"
   ]
  },
  {
   "cell_type": "code",
   "execution_count": 8,
   "metadata": {
    "scrolled": true
   },
   "outputs": [
    {
     "data": {
      "text/plain": [
       "{'Wild benign-Wild cancer': 0.9149956711745847,\n",
       " 'Wild benign-Col1 benign': 0.8376961300912475,\n",
       " 'Wild benign-Col1 cancer': 0.7845913090452984,\n",
       " 'Wild cancer-Col1 benign': 0.7695035671275587,\n",
       " 'Wild cancer-Col1 cancer': 0.6531501953799437,\n",
       " 'Col1 benign-Col1 cancer': 0.9907764992675813}"
      ]
     },
     "execution_count": 8,
     "metadata": {},
     "output_type": "execute_result"
    }
   ],
   "source": [
    "ms_p = dan.p_value_between_phenotypes(df_corrs_orient['MHR-SHG'])\n",
    "ms_p"
   ]
  },
  {
   "cell_type": "code",
   "execution_count": 9,
   "metadata": {},
   "outputs": [
    {
     "name": "stdout",
     "output_type": "stream",
     "text": [
      "Warning: n less than 4 for a calculation.  Returning a SE of 2.\n",
      "Warning: n less than 4 for a calculation.  Returning a SE of 2.\n"
     ]
    },
    {
     "data": {
      "text/plain": [
       "{'Wild benign-Wild cancer': 0.9976164493276646,\n",
       " 'Wild benign-Col1 benign': 0.897643359440912,\n",
       " 'Wild benign-Col1 cancer': 0.9655272112667976,\n",
       " 'Wild cancer-Col1 benign': 0.8940382473036499,\n",
       " 'Wild cancer-Col1 cancer': 0.9649222417201941,\n",
       " 'Col1 benign-Col1 cancer': 0.9489183228410749}"
      ]
     },
     "execution_count": 9,
     "metadata": {},
     "output_type": "execute_result"
    }
   ],
   "source": [
    "ls_p = dan.p_value_between_phenotypes(df_corrs_orient['MLR-SHG'])\n",
    "ls_p"
   ]
  },
  {
   "cell_type": "code",
   "execution_count": 13,
   "metadata": {},
   "outputs": [
    {
     "data": {
      "text/plain": [
       "0.10976883395739762"
      ]
     },
     "execution_count": 13,
     "metadata": {},
     "output_type": "execute_result"
    }
   ],
   "source": [
    "mstat.mean_correlation(df_corrs_orient['MHR-SHG']['Correlation'])"
   ]
  },
  {
   "cell_type": "code",
   "execution_count": 15,
   "metadata": {},
   "outputs": [
    {
     "data": {
      "text/plain": [
       "0.13441493449295078"
      ]
     },
     "execution_count": 15,
     "metadata": {},
     "output_type": "execute_result"
    }
   ],
   "source": [
    "mstat.mean_correlation(df_corrs_orient['MLR-SHG']['Correlation'])"
   ]
  },
  {
   "cell_type": "code",
   "execution_count": 16,
   "metadata": {},
   "outputs": [
    {
     "data": {
      "text/plain": [
       "0.6396913671015982"
      ]
     },
     "execution_count": 16,
     "metadata": {},
     "output_type": "execute_result"
    }
   ],
   "source": [
    "mstat.mean_correlation(df_corrs_orient['MHR-MLR']['Correlation'])"
   ]
  },
  {
   "cell_type": "code",
   "execution_count": 17,
   "metadata": {},
   "outputs": [
    {
     "data": {
      "text/html": [
       "<div>\n",
       "<style scoped>\n",
       "    .dataframe tbody tr th:only-of-type {\n",
       "        vertical-align: middle;\n",
       "    }\n",
       "\n",
       "    .dataframe tbody tr th {\n",
       "        vertical-align: top;\n",
       "    }\n",
       "\n",
       "    .dataframe thead th {\n",
       "        text-align: right;\n",
       "    }\n",
       "</style>\n",
       "<table border=\"1\" class=\"dataframe\">\n",
       "  <thead>\n",
       "    <tr style=\"text-align: right;\">\n",
       "      <th></th>\n",
       "      <th></th>\n",
       "      <th>Correlation</th>\n",
       "      <th>n</th>\n",
       "    </tr>\n",
       "    <tr>\n",
       "      <th>Mouse</th>\n",
       "      <th>Slide</th>\n",
       "      <th></th>\n",
       "      <th></th>\n",
       "    </tr>\n",
       "  </thead>\n",
       "  <tbody>\n",
       "    <tr>\n",
       "      <th>1045</th>\n",
       "      <th>M1</th>\n",
       "      <td>0.928279</td>\n",
       "      <td>5610</td>\n",
       "    </tr>\n",
       "    <tr>\n",
       "      <th rowspan=\"3\" valign=\"top\">1046</th>\n",
       "      <th>M3</th>\n",
       "      <td>0.056164</td>\n",
       "      <td>5864</td>\n",
       "    </tr>\n",
       "    <tr>\n",
       "      <th>P3</th>\n",
       "      <td>-0.381754</td>\n",
       "      <td>3631</td>\n",
       "    </tr>\n",
       "    <tr>\n",
       "      <th>P5</th>\n",
       "      <td>0.492441</td>\n",
       "      <td>3780</td>\n",
       "    </tr>\n",
       "    <tr>\n",
       "      <th rowspan=\"3\" valign=\"top\">1047</th>\n",
       "      <th>3</th>\n",
       "      <td>0.258174</td>\n",
       "      <td>8884</td>\n",
       "    </tr>\n",
       "    <tr>\n",
       "      <th>5</th>\n",
       "      <td>0.705826</td>\n",
       "      <td>7757</td>\n",
       "    </tr>\n",
       "    <tr>\n",
       "      <th>7</th>\n",
       "      <td>0.616040</td>\n",
       "      <td>5958</td>\n",
       "    </tr>\n",
       "    <tr>\n",
       "      <th rowspan=\"3\" valign=\"top\">1054</th>\n",
       "      <th>1</th>\n",
       "      <td>0.439988</td>\n",
       "      <td>15603</td>\n",
       "    </tr>\n",
       "    <tr>\n",
       "      <th>3</th>\n",
       "      <td>0.905314</td>\n",
       "      <td>8830</td>\n",
       "    </tr>\n",
       "    <tr>\n",
       "      <th>5</th>\n",
       "      <td>0.860080</td>\n",
       "      <td>10469</td>\n",
       "    </tr>\n",
       "    <tr>\n",
       "      <th>1057</th>\n",
       "      <th>1</th>\n",
       "      <td>0.945864</td>\n",
       "      <td>9964</td>\n",
       "    </tr>\n",
       "    <tr>\n",
       "      <th rowspan=\"2\" valign=\"top\">1367</th>\n",
       "      <th>5</th>\n",
       "      <td>0.928374</td>\n",
       "      <td>34120</td>\n",
       "    </tr>\n",
       "    <tr>\n",
       "      <th>7</th>\n",
       "      <td>0.471589</td>\n",
       "      <td>16388</td>\n",
       "    </tr>\n",
       "    <tr>\n",
       "      <th rowspan=\"4\" valign=\"top\">2944</th>\n",
       "      <th>E1</th>\n",
       "      <td>0.880860</td>\n",
       "      <td>1462</td>\n",
       "    </tr>\n",
       "    <tr>\n",
       "      <th>M1</th>\n",
       "      <td>0.755916</td>\n",
       "      <td>13171</td>\n",
       "    </tr>\n",
       "    <tr>\n",
       "      <th>M3</th>\n",
       "      <td>0.104363</td>\n",
       "      <td>71199</td>\n",
       "    </tr>\n",
       "    <tr>\n",
       "      <th>M7</th>\n",
       "      <td>0.447496</td>\n",
       "      <td>10939</td>\n",
       "    </tr>\n",
       "    <tr>\n",
       "      <th>WP</th>\n",
       "      <th>9</th>\n",
       "      <td>-0.002933</td>\n",
       "      <td>7292</td>\n",
       "    </tr>\n",
       "    <tr>\n",
       "      <th rowspan=\"2\" valign=\"top\">WT1</th>\n",
       "      <th>1</th>\n",
       "      <td>0.091229</td>\n",
       "      <td>1054</td>\n",
       "    </tr>\n",
       "    <tr>\n",
       "      <th>3</th>\n",
       "      <td>0.832072</td>\n",
       "      <td>3226</td>\n",
       "    </tr>\n",
       "  </tbody>\n",
       "</table>\n",
       "</div>"
      ],
      "text/plain": [
       "             Correlation      n\n",
       "Mouse Slide                    \n",
       "1045  M1        0.928279   5610\n",
       "1046  M3        0.056164   5864\n",
       "      P3       -0.381754   3631\n",
       "      P5        0.492441   3780\n",
       "1047  3         0.258174   8884\n",
       "      5         0.705826   7757\n",
       "      7         0.616040   5958\n",
       "1054  1         0.439988  15603\n",
       "      3         0.905314   8830\n",
       "      5         0.860080  10469\n",
       "1057  1         0.945864   9964\n",
       "1367  5         0.928374  34120\n",
       "      7         0.471589  16388\n",
       "2944  E1        0.880860   1462\n",
       "      M1        0.755916  13171\n",
       "      M3        0.104363  71199\n",
       "      M7        0.447496  10939\n",
       "WP    9        -0.002933   7292\n",
       "WT1   1         0.091229   1054\n",
       "      3         0.832072   3226"
      ]
     },
     "execution_count": 17,
     "metadata": {},
     "output_type": "execute_result"
    }
   ],
   "source": [
    "df_corrs_orient['MHR-MLR']"
   ]
  },
  {
   "cell_type": "code",
   "execution_count": 18,
   "metadata": {},
   "outputs": [
    {
     "data": {
      "text/html": [
       "<div>\n",
       "<style scoped>\n",
       "    .dataframe tbody tr th:only-of-type {\n",
       "        vertical-align: middle;\n",
       "    }\n",
       "\n",
       "    .dataframe tbody tr th {\n",
       "        vertical-align: top;\n",
       "    }\n",
       "\n",
       "    .dataframe thead th {\n",
       "        text-align: right;\n",
       "    }\n",
       "</style>\n",
       "<table border=\"1\" class=\"dataframe\">\n",
       "  <thead>\n",
       "    <tr style=\"text-align: right;\">\n",
       "      <th></th>\n",
       "      <th></th>\n",
       "      <th>Correlation</th>\n",
       "      <th>n</th>\n",
       "    </tr>\n",
       "    <tr>\n",
       "      <th>Mouse</th>\n",
       "      <th>Slide</th>\n",
       "      <th></th>\n",
       "      <th></th>\n",
       "    </tr>\n",
       "  </thead>\n",
       "  <tbody>\n",
       "    <tr>\n",
       "      <th rowspan=\"2\" valign=\"top\">1045</th>\n",
       "      <th>M1</th>\n",
       "      <td>-0.155119</td>\n",
       "      <td>8180</td>\n",
       "    </tr>\n",
       "    <tr>\n",
       "      <th>M7</th>\n",
       "      <td>-0.210210</td>\n",
       "      <td>30632</td>\n",
       "    </tr>\n",
       "    <tr>\n",
       "      <th rowspan=\"3\" valign=\"top\">1046</th>\n",
       "      <th>M3</th>\n",
       "      <td>-0.080916</td>\n",
       "      <td>14403</td>\n",
       "    </tr>\n",
       "    <tr>\n",
       "      <th>P3</th>\n",
       "      <td>-0.220490</td>\n",
       "      <td>10283</td>\n",
       "    </tr>\n",
       "    <tr>\n",
       "      <th>P5</th>\n",
       "      <td>0.084430</td>\n",
       "      <td>8554</td>\n",
       "    </tr>\n",
       "    <tr>\n",
       "      <th rowspan=\"3\" valign=\"top\">1047</th>\n",
       "      <th>3</th>\n",
       "      <td>0.013705</td>\n",
       "      <td>13461</td>\n",
       "    </tr>\n",
       "    <tr>\n",
       "      <th>5</th>\n",
       "      <td>0.129705</td>\n",
       "      <td>14653</td>\n",
       "    </tr>\n",
       "    <tr>\n",
       "      <th>7</th>\n",
       "      <td>0.227529</td>\n",
       "      <td>8583</td>\n",
       "    </tr>\n",
       "    <tr>\n",
       "      <th rowspan=\"3\" valign=\"top\">1054</th>\n",
       "      <th>1</th>\n",
       "      <td>0.280685</td>\n",
       "      <td>13044</td>\n",
       "    </tr>\n",
       "    <tr>\n",
       "      <th>3</th>\n",
       "      <td>0.456408</td>\n",
       "      <td>10710</td>\n",
       "    </tr>\n",
       "    <tr>\n",
       "      <th>5</th>\n",
       "      <td>0.551478</td>\n",
       "      <td>8695</td>\n",
       "    </tr>\n",
       "    <tr>\n",
       "      <th rowspan=\"3\" valign=\"top\">1057</th>\n",
       "      <th>1</th>\n",
       "      <td>0.503621</td>\n",
       "      <td>11461</td>\n",
       "    </tr>\n",
       "    <tr>\n",
       "      <th>3</th>\n",
       "      <td>0.418022</td>\n",
       "      <td>17461</td>\n",
       "    </tr>\n",
       "    <tr>\n",
       "      <th>5</th>\n",
       "      <td>0.613268</td>\n",
       "      <td>5681</td>\n",
       "    </tr>\n",
       "    <tr>\n",
       "      <th>1061</th>\n",
       "      <th>1</th>\n",
       "      <td>0.402099</td>\n",
       "      <td>6545</td>\n",
       "    </tr>\n",
       "    <tr>\n",
       "      <th>1064</th>\n",
       "      <th>1</th>\n",
       "      <td>-0.161859</td>\n",
       "      <td>3739</td>\n",
       "    </tr>\n",
       "    <tr>\n",
       "      <th rowspan=\"3\" valign=\"top\">1367</th>\n",
       "      <th>1</th>\n",
       "      <td>-0.020488</td>\n",
       "      <td>12456</td>\n",
       "    </tr>\n",
       "    <tr>\n",
       "      <th>5</th>\n",
       "      <td>0.118843</td>\n",
       "      <td>18978</td>\n",
       "    </tr>\n",
       "    <tr>\n",
       "      <th>7</th>\n",
       "      <td>0.145824</td>\n",
       "      <td>20179</td>\n",
       "    </tr>\n",
       "    <tr>\n",
       "      <th rowspan=\"4\" valign=\"top\">2944</th>\n",
       "      <th>E1</th>\n",
       "      <td>0.233909</td>\n",
       "      <td>2102</td>\n",
       "    </tr>\n",
       "    <tr>\n",
       "      <th>E7</th>\n",
       "      <td>0.026563</td>\n",
       "      <td>15587</td>\n",
       "    </tr>\n",
       "    <tr>\n",
       "      <th>M1</th>\n",
       "      <td>-0.279833</td>\n",
       "      <td>25640</td>\n",
       "    </tr>\n",
       "    <tr>\n",
       "      <th>M3</th>\n",
       "      <td>-0.135229</td>\n",
       "      <td>34269</td>\n",
       "    </tr>\n",
       "    <tr>\n",
       "      <th rowspan=\"4\" valign=\"top\">WP</th>\n",
       "      <th>2</th>\n",
       "      <td>-0.029904</td>\n",
       "      <td>5967</td>\n",
       "    </tr>\n",
       "    <tr>\n",
       "      <th>4</th>\n",
       "      <td>0.125455</td>\n",
       "      <td>4179</td>\n",
       "    </tr>\n",
       "    <tr>\n",
       "      <th>5</th>\n",
       "      <td>-0.063442</td>\n",
       "      <td>5449</td>\n",
       "    </tr>\n",
       "    <tr>\n",
       "      <th>9</th>\n",
       "      <td>0.017100</td>\n",
       "      <td>10012</td>\n",
       "    </tr>\n",
       "    <tr>\n",
       "      <th rowspan=\"3\" valign=\"top\">WT1</th>\n",
       "      <th>1</th>\n",
       "      <td>-0.030341</td>\n",
       "      <td>2872</td>\n",
       "    </tr>\n",
       "    <tr>\n",
       "      <th>3</th>\n",
       "      <td>0.113849</td>\n",
       "      <td>7106</td>\n",
       "    </tr>\n",
       "    <tr>\n",
       "      <th>7</th>\n",
       "      <td>-0.077796</td>\n",
       "      <td>24853</td>\n",
       "    </tr>\n",
       "  </tbody>\n",
       "</table>\n",
       "</div>"
      ],
      "text/plain": [
       "             Correlation      n\n",
       "Mouse Slide                    \n",
       "1045  M1       -0.155119   8180\n",
       "      M7       -0.210210  30632\n",
       "1046  M3       -0.080916  14403\n",
       "      P3       -0.220490  10283\n",
       "      P5        0.084430   8554\n",
       "1047  3         0.013705  13461\n",
       "      5         0.129705  14653\n",
       "      7         0.227529   8583\n",
       "1054  1         0.280685  13044\n",
       "      3         0.456408  10710\n",
       "      5         0.551478   8695\n",
       "1057  1         0.503621  11461\n",
       "      3         0.418022  17461\n",
       "      5         0.613268   5681\n",
       "1061  1         0.402099   6545\n",
       "1064  1        -0.161859   3739\n",
       "1367  1        -0.020488  12456\n",
       "      5         0.118843  18978\n",
       "      7         0.145824  20179\n",
       "2944  E1        0.233909   2102\n",
       "      E7        0.026563  15587\n",
       "      M1       -0.279833  25640\n",
       "      M3       -0.135229  34269\n",
       "WP    2        -0.029904   5967\n",
       "      4         0.125455   4179\n",
       "      5        -0.063442   5449\n",
       "      9         0.017100  10012\n",
       "WT1   1        -0.030341   2872\n",
       "      3         0.113849   7106\n",
       "      7        -0.077796  24853"
      ]
     },
     "execution_count": 18,
     "metadata": {},
     "output_type": "execute_result"
    }
   ],
   "source": [
    "df_corrs_orient['MHR-SHG']"
   ]
  },
  {
   "cell_type": "code",
   "execution_count": 19,
   "metadata": {
    "scrolled": true
   },
   "outputs": [
    {
     "data": {
      "text/html": [
       "<div>\n",
       "<style scoped>\n",
       "    .dataframe tbody tr th:only-of-type {\n",
       "        vertical-align: middle;\n",
       "    }\n",
       "\n",
       "    .dataframe tbody tr th {\n",
       "        vertical-align: top;\n",
       "    }\n",
       "\n",
       "    .dataframe thead th {\n",
       "        text-align: right;\n",
       "    }\n",
       "</style>\n",
       "<table border=\"1\" class=\"dataframe\">\n",
       "  <thead>\n",
       "    <tr style=\"text-align: right;\">\n",
       "      <th></th>\n",
       "      <th></th>\n",
       "      <th>Correlation</th>\n",
       "      <th>n</th>\n",
       "    </tr>\n",
       "    <tr>\n",
       "      <th>Mouse</th>\n",
       "      <th>Slide</th>\n",
       "      <th></th>\n",
       "      <th></th>\n",
       "    </tr>\n",
       "  </thead>\n",
       "  <tbody>\n",
       "    <tr>\n",
       "      <th>1045</th>\n",
       "      <th>M1</th>\n",
       "      <td>-0.224075</td>\n",
       "      <td>5760</td>\n",
       "    </tr>\n",
       "    <tr>\n",
       "      <th rowspan=\"3\" valign=\"top\">1046</th>\n",
       "      <th>M3</th>\n",
       "      <td>0.208361</td>\n",
       "      <td>4863</td>\n",
       "    </tr>\n",
       "    <tr>\n",
       "      <th>P3</th>\n",
       "      <td>0.316426</td>\n",
       "      <td>4223</td>\n",
       "    </tr>\n",
       "    <tr>\n",
       "      <th>P5</th>\n",
       "      <td>0.145108</td>\n",
       "      <td>3648</td>\n",
       "    </tr>\n",
       "    <tr>\n",
       "      <th rowspan=\"3\" valign=\"top\">1047</th>\n",
       "      <th>3</th>\n",
       "      <td>0.120628</td>\n",
       "      <td>12155</td>\n",
       "    </tr>\n",
       "    <tr>\n",
       "      <th>5</th>\n",
       "      <td>0.295877</td>\n",
       "      <td>7275</td>\n",
       "    </tr>\n",
       "    <tr>\n",
       "      <th>7</th>\n",
       "      <td>0.033506</td>\n",
       "      <td>7367</td>\n",
       "    </tr>\n",
       "    <tr>\n",
       "      <th rowspan=\"3\" valign=\"top\">1054</th>\n",
       "      <th>1</th>\n",
       "      <td>0.145452</td>\n",
       "      <td>15282</td>\n",
       "    </tr>\n",
       "    <tr>\n",
       "      <th>3</th>\n",
       "      <td>0.363930</td>\n",
       "      <td>8199</td>\n",
       "    </tr>\n",
       "    <tr>\n",
       "      <th>5</th>\n",
       "      <td>0.530395</td>\n",
       "      <td>7649</td>\n",
       "    </tr>\n",
       "    <tr>\n",
       "      <th>1057</th>\n",
       "      <th>1</th>\n",
       "      <td>0.524250</td>\n",
       "      <td>8580</td>\n",
       "    </tr>\n",
       "    <tr>\n",
       "      <th rowspan=\"3\" valign=\"top\">1367</th>\n",
       "      <th>3</th>\n",
       "      <td>0.027975</td>\n",
       "      <td>5795</td>\n",
       "    </tr>\n",
       "    <tr>\n",
       "      <th>5</th>\n",
       "      <td>0.161087</td>\n",
       "      <td>19570</td>\n",
       "    </tr>\n",
       "    <tr>\n",
       "      <th>7</th>\n",
       "      <td>-0.014028</td>\n",
       "      <td>12926</td>\n",
       "    </tr>\n",
       "    <tr>\n",
       "      <th rowspan=\"4\" valign=\"top\">2944</th>\n",
       "      <th>E1</th>\n",
       "      <td>0.200314</td>\n",
       "      <td>2017</td>\n",
       "    </tr>\n",
       "    <tr>\n",
       "      <th>M1</th>\n",
       "      <td>-0.102172</td>\n",
       "      <td>14076</td>\n",
       "    </tr>\n",
       "    <tr>\n",
       "      <th>M3</th>\n",
       "      <td>-0.106505</td>\n",
       "      <td>35669</td>\n",
       "    </tr>\n",
       "    <tr>\n",
       "      <th>M7</th>\n",
       "      <td>0.093814</td>\n",
       "      <td>101</td>\n",
       "    </tr>\n",
       "    <tr>\n",
       "      <th>WP</th>\n",
       "      <th>9</th>\n",
       "      <td>-0.001399</td>\n",
       "      <td>10311</td>\n",
       "    </tr>\n",
       "    <tr>\n",
       "      <th rowspan=\"2\" valign=\"top\">WT1</th>\n",
       "      <th>1</th>\n",
       "      <td>-0.245842</td>\n",
       "      <td>1999</td>\n",
       "    </tr>\n",
       "    <tr>\n",
       "      <th>3</th>\n",
       "      <td>0.207235</td>\n",
       "      <td>4379</td>\n",
       "    </tr>\n",
       "  </tbody>\n",
       "</table>\n",
       "</div>"
      ],
      "text/plain": [
       "             Correlation      n\n",
       "Mouse Slide                    \n",
       "1045  M1       -0.224075   5760\n",
       "1046  M3        0.208361   4863\n",
       "      P3        0.316426   4223\n",
       "      P5        0.145108   3648\n",
       "1047  3         0.120628  12155\n",
       "      5         0.295877   7275\n",
       "      7         0.033506   7367\n",
       "1054  1         0.145452  15282\n",
       "      3         0.363930   8199\n",
       "      5         0.530395   7649\n",
       "1057  1         0.524250   8580\n",
       "1367  3         0.027975   5795\n",
       "      5         0.161087  19570\n",
       "      7        -0.014028  12926\n",
       "2944  E1        0.200314   2017\n",
       "      M1       -0.102172  14076\n",
       "      M3       -0.106505  35669\n",
       "      M7        0.093814    101\n",
       "WP    9        -0.001399  10311\n",
       "WT1   1        -0.245842   1999\n",
       "      3         0.207235   4379"
      ]
     },
     "execution_count": 19,
     "metadata": {},
     "output_type": "execute_result"
    }
   ],
   "source": [
    "df_corrs_orient['MLR-SHG']"
   ]
  },
  {
   "cell_type": "code",
   "execution_count": 21,
   "metadata": {},
   "outputs": [
    {
     "data": {
      "text/html": [
       "<div>\n",
       "<style scoped>\n",
       "    .dataframe tbody tr th:only-of-type {\n",
       "        vertical-align: middle;\n",
       "    }\n",
       "\n",
       "    .dataframe tbody tr th {\n",
       "        vertical-align: top;\n",
       "    }\n",
       "\n",
       "    .dataframe thead th {\n",
       "        text-align: right;\n",
       "    }\n",
       "</style>\n",
       "<table border=\"1\" class=\"dataframe\">\n",
       "  <thead>\n",
       "    <tr style=\"text-align: right;\">\n",
       "      <th></th>\n",
       "      <th></th>\n",
       "      <th>Correlation</th>\n",
       "      <th>n</th>\n",
       "    </tr>\n",
       "    <tr>\n",
       "      <th>Mouse</th>\n",
       "      <th>Slide</th>\n",
       "      <th></th>\n",
       "      <th></th>\n",
       "    </tr>\n",
       "  </thead>\n",
       "  <tbody>\n",
       "    <tr>\n",
       "      <th rowspan=\"4\" valign=\"top\">WP</th>\n",
       "      <th>2</th>\n",
       "      <td>-0.283193</td>\n",
       "      <td>4783</td>\n",
       "    </tr>\n",
       "    <tr>\n",
       "      <th>4</th>\n",
       "      <td>0.392714</td>\n",
       "      <td>3754</td>\n",
       "    </tr>\n",
       "    <tr>\n",
       "      <th>5</th>\n",
       "      <td>0.011531</td>\n",
       "      <td>4215</td>\n",
       "    </tr>\n",
       "    <tr>\n",
       "      <th>9</th>\n",
       "      <td>-0.055602</td>\n",
       "      <td>7740</td>\n",
       "    </tr>\n",
       "  </tbody>\n",
       "</table>\n",
       "</div>"
      ],
      "text/plain": [
       "             Correlation     n\n",
       "Mouse Slide                   \n",
       "WP    2        -0.283193  4783\n",
       "      4         0.392714  3754\n",
       "      5         0.011531  4215\n",
       "      9        -0.055602  7740"
      ]
     },
     "execution_count": 21,
     "metadata": {},
     "output_type": "execute_result"
    }
   ],
   "source": [
    "df_corrs_orient['MHR-PS']"
   ]
  },
  {
   "cell_type": "code",
   "execution_count": 24,
   "metadata": {},
   "outputs": [
    {
     "data": {
      "text/html": [
       "<div>\n",
       "<style scoped>\n",
       "    .dataframe tbody tr th:only-of-type {\n",
       "        vertical-align: middle;\n",
       "    }\n",
       "\n",
       "    .dataframe tbody tr th {\n",
       "        vertical-align: top;\n",
       "    }\n",
       "\n",
       "    .dataframe thead th {\n",
       "        text-align: right;\n",
       "    }\n",
       "</style>\n",
       "<table border=\"1\" class=\"dataframe\">\n",
       "  <thead>\n",
       "    <tr style=\"text-align: right;\">\n",
       "      <th></th>\n",
       "      <th></th>\n",
       "      <th>Correlation</th>\n",
       "      <th>n</th>\n",
       "    </tr>\n",
       "    <tr>\n",
       "      <th>Mouse</th>\n",
       "      <th>Slide</th>\n",
       "      <th></th>\n",
       "      <th></th>\n",
       "    </tr>\n",
       "  </thead>\n",
       "  <tbody>\n",
       "    <tr>\n",
       "      <th>WP</th>\n",
       "      <th>9</th>\n",
       "      <td>-0.006711</td>\n",
       "      <td>8468</td>\n",
       "    </tr>\n",
       "  </tbody>\n",
       "</table>\n",
       "</div>"
      ],
      "text/plain": [
       "             Correlation     n\n",
       "Mouse Slide                   \n",
       "WP    9        -0.006711  8468"
      ]
     },
     "execution_count": 24,
     "metadata": {},
     "output_type": "execute_result"
    }
   ],
   "source": [
    "df_corrs_orient['MLR-PS']"
   ]
  },
  {
   "cell_type": "code",
   "execution_count": 25,
   "metadata": {},
   "outputs": [
    {
     "data": {
      "text/html": [
       "<div>\n",
       "<style scoped>\n",
       "    .dataframe tbody tr th:only-of-type {\n",
       "        vertical-align: middle;\n",
       "    }\n",
       "\n",
       "    .dataframe tbody tr th {\n",
       "        vertical-align: top;\n",
       "    }\n",
       "\n",
       "    .dataframe thead th {\n",
       "        text-align: right;\n",
       "    }\n",
       "</style>\n",
       "<table border=\"1\" class=\"dataframe\">\n",
       "  <thead>\n",
       "    <tr style=\"text-align: right;\">\n",
       "      <th></th>\n",
       "      <th></th>\n",
       "      <th>Correlation</th>\n",
       "      <th>n</th>\n",
       "    </tr>\n",
       "    <tr>\n",
       "      <th>Mouse</th>\n",
       "      <th>Slide</th>\n",
       "      <th></th>\n",
       "      <th></th>\n",
       "    </tr>\n",
       "  </thead>\n",
       "  <tbody>\n",
       "    <tr>\n",
       "      <th rowspan=\"4\" valign=\"top\">WP</th>\n",
       "      <th>2</th>\n",
       "      <td>0.168535</td>\n",
       "      <td>4941</td>\n",
       "    </tr>\n",
       "    <tr>\n",
       "      <th>4</th>\n",
       "      <td>0.367723</td>\n",
       "      <td>4833</td>\n",
       "    </tr>\n",
       "    <tr>\n",
       "      <th>5</th>\n",
       "      <td>-0.013569</td>\n",
       "      <td>8492</td>\n",
       "    </tr>\n",
       "    <tr>\n",
       "      <th>9</th>\n",
       "      <td>0.190392</td>\n",
       "      <td>12229</td>\n",
       "    </tr>\n",
       "  </tbody>\n",
       "</table>\n",
       "</div>"
      ],
      "text/plain": [
       "             Correlation      n\n",
       "Mouse Slide                    \n",
       "WP    2         0.168535   4941\n",
       "      4         0.367723   4833\n",
       "      5        -0.013569   8492\n",
       "      9         0.190392  12229"
      ]
     },
     "execution_count": 25,
     "metadata": {},
     "output_type": "execute_result"
    }
   ],
   "source": [
    "df_corrs_orient['PS-SHG']"
   ]
  },
  {
   "cell_type": "code",
   "execution_count": 70,
   "metadata": {},
   "outputs": [
    {
     "data": {
      "text/plain": [
       "<matplotlib.axes._subplots.AxesSubplot at 0x25e122bd908>"
      ]
     },
     "execution_count": 70,
     "metadata": {},
     "output_type": "execute_result"
    },
    {
     "data": {
      "image/png": "[encoded data removed]",
      "text/plain": [
       "<Figure size 432x288 with 1 Axes>"
      ]
     },
     "metadata": {
      "needs_background": "light"
     },
     "output_type": "display_data"
    }
   ],
   "source": [
    "wb, wc, cb, cc = dan.group_into_phenotypes(df_corrs_orient['MHR-SHG']['Correlation'])\n",
    "mhr_shg = pd.concat([wb, wc, cb, cc], axis=1, sort=False, keys=[\"wt/-\", \"wt/+\", \"col1/-\", \"col1/+\"])\n",
    "mhr_shg.plot.box()"
   ]
  },
  {
   "cell_type": "code",
   "execution_count": 112,
   "metadata": {},
   "outputs": [
    {
     "name": "stdout",
     "output_type": "stream",
     "text": [
      "0.47446103616952734\n",
      "0.7483755116031439\n",
      "0.5527174659754577\n"
     ]
    }
   ],
   "source": [
    "w = pd.concat([wb, wc])\n",
    "c = pd.concat([cb, cc])\n",
    "w_corr = mstat.mean_correlation(w)\n",
    "c_corr = mstat.mean_correlation(c)\n",
    "p = mstat.correlation_t_test(w_corr, w.size, c_corr, c.size)\n",
    "\n",
    "print(w_corr)\n",
    "print(c_corr)\n",
    "print(p)"
   ]
  },
  {
   "cell_type": "code",
   "execution_count": 88,
   "metadata": {},
   "outputs": [
    {
     "data": {
      "text/plain": [
       "<matplotlib.axes._subplots.AxesSubplot at 0x25e12394160>"
      ]
     },
     "execution_count": 88,
     "metadata": {},
     "output_type": "execute_result"
    },
    {
     "data": {
      "image/png": "[encoded data removed]",
      "text/plain": [
       "<Figure size 432x288 with 1 Axes>"
      ]
     },
     "metadata": {
      "needs_background": "light"
     },
     "output_type": "display_data"
    }
   ],
   "source": [
    "wb, wc, cb, cc = dan.group_into_phenotypes(df_corrs_orient['MLR-SHG']['Correlation'])\n",
    "mlr_shg = pd.concat([wb, wc, cb, cc], axis=1, sort=False, keys=[\"wt/-\", \"wt/+\", \"col1/-\", \"col1/+\"])\n",
    "mlr_shg.plot.box()"
   ]
  },
  {
   "cell_type": "code",
   "execution_count": 93,
   "metadata": {},
   "outputs": [
    {
     "name": "stdout",
     "output_type": "stream",
     "text": [
      "0.08523426266605857\n",
      "0.2863328102059922\n",
      "0.07150147021211921\n"
     ]
    }
   ],
   "source": [
    "w = pd.concat([wb, wc])\n",
    "c = pd.concat([cb, cc])\n",
    "w_corr = mstat.mean_correlation(w)\n",
    "c_corr = mstat.mean_correlation(c)\n",
    "p = mstat.correlation_t_test(w_corr, w.size, c_corr, c.size)\n",
    "\n",
    "print(w_corr)\n",
    "print(c_corr)\n",
    "print(p)"
   ]
  },
  {
   "cell_type": "code",
   "execution_count": 97,
   "metadata": {},
   "outputs": [
    {
     "data": {
      "text/plain": [
       "<matplotlib.axes._subplots.AxesSubplot at 0x25e12429cf8>"
      ]
     },
     "execution_count": 97,
     "metadata": {},
     "output_type": "execute_result"
    },
    {
     "data": {
      "image/png": "[encoded data removed]",
      "text/plain": [
       "<Figure size 432x288 with 1 Axes>"
      ]
     },
     "metadata": {
      "needs_background": "light"
     },
     "output_type": "display_data"
    }
   ],
   "source": [
    "wb, wc, cb, cc = dan.group_into_phenotypes(df_corrs_orient['MHR-MLR']['Correlation'])\n",
    "mhr_mlr = pd.concat([wb, wc, cb, cc], axis=1, sort=False, keys=[\"wt/-\", \"wt/+\", \"col1/-\", \"col1/+\"])\n",
    "mhr_mlr.plot.box()"
   ]
  },
  {
   "cell_type": "code",
   "execution_count": 98,
   "metadata": {},
   "outputs": [
    {
     "name": "stdout",
     "output_type": "stream",
     "text": [
      "0.5104197864814733\n",
      "0.8718433467641418\n",
      "0.3087369660076499\n"
     ]
    }
   ],
   "source": [
    "w = pd.concat([wb, wc])\n",
    "c = pd.concat([cb, cc])\n",
    "w_corr = mstat.mean_correlation(w)\n",
    "c_corr = mstat.mean_correlation(c)\n",
    "p = mstat.correlation_t_test(w_corr, w.size, c_corr, c.size)\n",
    "\n",
    "print(w_corr)\n",
    "print(c_corr)\n",
    "print(p)"
   ]
  },
  {
   "cell_type": "code",
   "execution_count": 109,
   "metadata": {},
   "outputs": [
    {
     "data": {
      "text/plain": [
       "0.5574817161222496"
      ]
     },
     "execution_count": 109,
     "metadata": {},
     "output_type": "execute_result"
    }
   ],
   "source": [
    "mstat.mean_correlation(df_corrs_align['MHR-MLR']['Correlation'])"
   ]
  },
  {
   "cell_type": "code",
   "execution_count": 110,
   "metadata": {
    "scrolled": true
   },
   "outputs": [
    {
     "data": {
      "text/plain": [
       "<matplotlib.axes._subplots.AxesSubplot at 0x25e1219b630>"
      ]
     },
     "execution_count": 110,
     "metadata": {},
     "output_type": "execute_result"
    },
    {
     "data": {
      "image/png": "[encoded data removed]",
      "text/plain": [
       "<Figure size 432x288 with 1 Axes>"
      ]
     },
     "metadata": {
      "needs_background": "light"
     },
     "output_type": "display_data"
    }
   ],
   "source": [
    "wb, wc, cb, cc = dan.group_into_phenotypes(df_corrs_align['MHR-MLR']['Correlation'])\n",
    "mhr_mlr = pd.concat([wb, wc, cb, cc], axis=1, sort=False, keys=[\"wt/-\", \"wt/+\", \"col1/-\", \"col1/+\"])\n",
    "mhr_mlr.plot.box()"
   ]
  },
  {
   "cell_type": "code",
   "execution_count": 111,
   "metadata": {},
   "outputs": [
    {
     "name": "stdout",
     "output_type": "stream",
     "text": [
      "0.47446103616952734\n",
      "0.7483755116031439\n",
      "0.5527174659754577\n"
     ]
    }
   ],
   "source": [
    "w = pd.concat([wb, wc])\n",
    "c = pd.concat([cb, cc])\n",
    "w_corr = mstat.mean_correlation(w)\n",
    "c_corr = mstat.mean_correlation(c)\n",
    "p = mstat.correlation_t_test(w_corr, w.size, c_corr, c.size)\n",
    "\n",
    "print(w_corr)\n",
    "print(c_corr)\n",
    "print(p)"
   ]
  },
  {
   "cell_type": "code",
   "execution_count": 105,
   "metadata": {},
   "outputs": [
    {
     "data": {
      "text/plain": [
       "0.008542553924455132"
      ]
     },
     "execution_count": 105,
     "metadata": {},
     "output_type": "execute_result"
    }
   ],
   "source": [
    "mstat.mean_correlation(df_corrs_align['MHR-SHG']['Correlation'])"
   ]
  },
  {
   "cell_type": "code",
   "execution_count": 108,
   "metadata": {},
   "outputs": [
    {
     "data": {
      "text/plain": [
       "0.7408625712075652"
      ]
     },
     "execution_count": 108,
     "metadata": {},
     "output_type": "execute_result"
    }
   ],
   "source": [
    "mstat.mean_correlation(df_corrs_ret['MHR-MLR']['Correlation'])"
   ]
  },
  {
   "cell_type": "code",
   "execution_count": null,
   "metadata": {},
   "outputs": [],
   "source": []
  }
 ],
 "metadata": {
  "kernelspec": {
   "display_name": "Python 3",
   "language": "python",
   "name": "python3"
  },
  "language_info": {
   "codemirror_mode": {
    "name": "ipython",
    "version": 3
   },
   "file_extension": ".py",
   "mimetype": "text/x-python",
   "name": "python",
   "nbconvert_exporter": "python",
   "pygments_lexer": "ipython3",
   "version": "3.6.6"
  }
 },
 "nbformat": 4,
 "nbformat_minor": 2
}
