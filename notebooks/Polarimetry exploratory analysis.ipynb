{
 "cells": [
  {
   "cell_type": "code",
   "execution_count": 1,
   "metadata": {},
   "outputs": [],
   "source": [
    "import multiscale.polarimetry.task_scripts.data_analysis as dan\n",
    "from pathlib import Path\n",
    "import pandas as pd\n",
    "import numpy as np\n",
    "import multiscale.polarimetry.analysis as an\n",
    "import pycircstat as circ"
   ]
  },
  {
   "cell_type": "code",
   "execution_count": 2,
   "metadata": {},
   "outputs": [],
   "source": [
    "path_curve = Path(r'F:\\Research\\Polarimetry\\Data 04 - Analysis results and graphics\\Old files', 'Curve-Align_ROIs_18.csv')\n",
    "path_cyto = Path(r'F:\\Research\\Polarimetry\\Data 04 - Analysis results and graphics\\Old files', 'Cytospectre_Tiles.csv')\n",
    "path_average = Path(r'F:\\Research\\Polarimetry\\Data 04 - Analysis results and graphics',\n",
    "                            'ROIs_averaged_from_base_image.csv')\n",
    "path_fibs = Path(r'F:\\Research\\Polarimetry\\Data 04 - Analysis results and graphics\\Curve Align',\n",
    "                         'CA_FibNum_SHG.csv')\n",
    "path_shg = Path(r'F:\\Research\\Polarimetry\\Data 04 - Analysis results and graphics', 'Curve-Align_ROIs.csv')\n",
    "path_tile = Path(r'F:\\Research\\Polarimetry\\Data 04 - Analysis results and graphics\\Old files', 'Curve-Align_Tiles.csv')\n",
    "path_avg_old = Path(r'F:\\Research\\Polarimetry\\Data 04 - Analysis results and graphics',\n",
    "                            'ROIs_averaged_from_base_image_old.csv')"
   ]
  },
  {
   "cell_type": "code",
   "execution_count": null,
   "metadata": {},
   "outputs": [],
   "source": [
    "corrs_orient_avg, corrs_orient_align = dan.fib_comparison(0, 2, 0)"
   ]
  },
  {
   "cell_type": "code",
   "execution_count": null,
   "metadata": {},
   "outputs": [],
   "source": [
    "corrs_orient_avg.describe()"
   ]
  },
  {
   "cell_type": "code",
   "execution_count": 3,
   "metadata": {},
   "outputs": [],
   "source": [
    "df_cyto, df_tile, df_roi = dan.get_tile_roi_cyto_df(path_tile, path_curve, path_cyto)"
   ]
  },
  {
   "cell_type": "code",
   "execution_count": null,
   "metadata": {},
   "outputs": [],
   "source": [
    "corrs_roi_orient = dan.correlate_pairs(df_roi['Orientation'])\n",
    "corrs_roi_orient.describe()"
   ]
  },
  {
   "cell_type": "code",
   "execution_count": null,
   "metadata": {},
   "outputs": [],
   "source": [
    "corrs_roi_orient = dan.correlate_pairs(df_roi['Orientation'], recast=True)\n",
    "corrs_roi_orient.describe()"
   ]
  },
  {
   "cell_type": "code",
   "execution_count": null,
   "metadata": {},
   "outputs": [],
   "source": [
    "corrs_tile_orient2 = dan.correlate_pairs(df_tile['Orientation'])\n",
    "corrs_tile_orient2.describe()"
   ]
  },
  {
   "cell_type": "code",
   "execution_count": null,
   "metadata": {},
   "outputs": [],
   "source": [
    "corrs_cyto_orient = dan.correlate_pairs(df_cyto['Orientation'])\n",
    "corrs_cyto_orient.describe()"
   ]
  },
  {
   "cell_type": "code",
   "execution_count": null,
   "metadata": {},
   "outputs": [],
   "source": [
    "corrs_cyto_orient2 = dan.correlate_pairs(df_cyto['Orientation'], recast=True)\n",
    "corrs_cyto_orient2.describe()"
   ]
  },
  {
   "cell_type": "code",
   "execution_count": null,
   "metadata": {},
   "outputs": [],
   "source": [
    "df_random = pd.DataFrame(180*np.random.rand(1000, 2))\n",
    "df_random"
   ]
  },
  {
   "cell_type": "code",
   "execution_count": null,
   "metadata": {},
   "outputs": [],
   "source": [
    "df_random.corr()"
   ]
  },
  {
   "cell_type": "code",
   "execution_count": null,
   "metadata": {},
   "outputs": [],
   "source": [
    "df_recast = df_random.apply(an.recast_max_diff_90deg, axis=1, result_type='broadcast')\n",
    "df_recast.corr()"
   ]
  },
  {
   "cell_type": "code",
   "execution_count": 47,
   "metadata": {},
   "outputs": [],
   "source": [
    "df_orient = df_roi['Orientation']\n",
    "mhr_shg = df_orient[['MHR', 'SHG']].dropna()\n",
    "mlr_shg = df_orient[['MLR', 'SHG']].dropna()\n",
    "mhr_mlr = df_orient[['MHR', 'MLR']].dropna()"
   ]
  },
  {
   "cell_type": "code",
   "execution_count": 48,
   "metadata": {},
   "outputs": [],
   "source": [
    "mhs_corrs = an.find_circular_correlations(mhr_shg)\n",
    "mlr_corrs = an.find_circular_correlations(mlr_shg)\n",
    "mhl_corrs = an.find_circular_correlations(mhr_mlr)"
   ]
  },
  {
   "cell_type": "code",
   "execution_count": 49,
   "metadata": {
    "scrolled": true
   },
   "outputs": [
    {
     "data": {
      "text/plain": [
       "count    31.000000\n",
       "mean      0.000623\n",
       "std       0.387983\n",
       "min      -0.656940\n",
       "25%      -0.324447\n",
       "50%      -0.064428\n",
       "75%       0.387193\n",
       "max       0.641418\n",
       "dtype: float64"
      ]
     },
     "execution_count": 49,
     "metadata": {},
     "output_type": "execute_result"
    }
   ],
   "source": [
    "pd.Series(mhs_corrs).describe()"
   ]
  },
  {
   "cell_type": "code",
   "execution_count": 50,
   "metadata": {},
   "outputs": [
    {
     "data": {
      "text/plain": [
       "count    28.000000\n",
       "mean      0.032241\n",
       "std       0.383678\n",
       "min      -0.602212\n",
       "25%      -0.366204\n",
       "50%       0.161408\n",
       "75%       0.348212\n",
       "max       0.576553\n",
       "dtype: float64"
      ]
     },
     "execution_count": 50,
     "metadata": {},
     "output_type": "execute_result"
    }
   ],
   "source": [
    "pd.Series(mlr_corrs).describe()"
   ]
  },
  {
   "cell_type": "code",
   "execution_count": 51,
   "metadata": {},
   "outputs": [
    {
     "data": {
      "text/plain": [
       "count    28.000000\n",
       "mean      0.126530\n",
       "std       0.444468\n",
       "min      -0.704990\n",
       "25%      -0.193411\n",
       "50%       0.084512\n",
       "75%       0.489572\n",
       "max       0.826660\n",
       "dtype: float64"
      ]
     },
     "execution_count": 51,
     "metadata": {},
     "output_type": "execute_result"
    }
   ],
   "source": [
    "pd.Series(mhl_corrs).describe()"
   ]
  },
  {
   "cell_type": "code",
   "execution_count": 52,
   "metadata": {
    "scrolled": true
   },
   "outputs": [
    {
     "data": {
      "text/plain": [
       "{('1045', 'M1'): 0.09425033941354732,\n",
       " ('1045', 'M7'): -0.3353348017111703,\n",
       " ('1046', 'M3'): 0.4505505109735184,\n",
       " ('1046', 'P3'): 0.3078689219339376,\n",
       " ('1046', 'P5'): -0.2377735957093401,\n",
       " ('1047', '3'): -0.5041588167394369,\n",
       " ('1047', '5'): -0.10862295622750472,\n",
       " ('1047', '7'): -0.614187715948565,\n",
       " ('1054', '1'): -0.026609737961602847,\n",
       " ('1054', '3'): 0.22438044833275048,\n",
       " ('1054', '5'): 0.2678152126595538,\n",
       " ('1057', '1'): 0.82666044209978,\n",
       " ('1057', '3'): -0.22587415558398438,\n",
       " ('1057', '5'): 0.3016552870479919,\n",
       " ('1061', '1'): -0.7049898980262261,\n",
       " ('1064', '1'): 0.03406043281242028,\n",
       " ('1367', '1'): 0.5369342534448577,\n",
       " ('1367', '5'): 0.6921236031176996,\n",
       " ('1367', '7'): 0.0020994548081522983,\n",
       " ('2944', 'E1'): 0.5995111295107789,\n",
       " ('2944', 'E3'): 0.07477392455329043,\n",
       " ('2944', 'E7'): -0.5712565055493629,\n",
       " ('2944', 'M1'): 0.06368213372392313,\n",
       " ('2944', 'M3'): -0.18259034704861715,\n",
       " ('WP', '2'): 0.7385087820820682,\n",
       " ('WP', '5'): 0.7793759784814003,\n",
       " ('WP', '9'): 0.5862051776454505,\n",
       " ('WT1', '3'): 0.47378446785117506}"
      ]
     },
     "execution_count": 52,
     "metadata": {},
     "output_type": "execute_result"
    }
   ],
   "source": [
    "mhl_corrs"
   ]
  },
  {
   "cell_type": "code",
   "execution_count": 53,
   "metadata": {
    "scrolled": true
   },
   "outputs": [
    {
     "data": {
      "text/plain": [
       "{('1045', 'M1'): 0.4244372209609348,\n",
       " ('1045', 'M7'): 0.21763594152960464,\n",
       " ('1046', 'M3'): 0.4075022825403847,\n",
       " ('1046', 'P3'): 0.27289436578347065,\n",
       " ('1046', 'P5'): -0.2004682929620693,\n",
       " ('1047', '3'): 0.3051574526732076,\n",
       " ('1047', '5'): 0.23346042560447786,\n",
       " ('1047', '7'): 0.10517956778723112,\n",
       " ('1054', '1'): -0.5046896157503848,\n",
       " ('1054', '3'): -0.38931665110183367,\n",
       " ('1054', '5'): -0.33425760031024343,\n",
       " ('1057', '1'): 0.5581488596171901,\n",
       " ('1057', '3'): -0.36728998803271473,\n",
       " ('1057', '5'): 0.34174726616243956,\n",
       " ('1064', '1'): 0.5203458298330349,\n",
       " ('1367', '1'): -0.4155700163552045,\n",
       " ('1367', '3'): -0.36584192873830745,\n",
       " ('1367', '5'): 0.05730556140813869,\n",
       " ('1367', '7'): 0.26559370166976654,\n",
       " ('2944', 'E1'): -0.602212044157037,\n",
       " ('2944', 'E3'): -0.3785256167552004,\n",
       " ('2944', 'E7'): 0.4371942031213541,\n",
       " ('2944', 'M1'): 0.23508161952123613,\n",
       " ('2944', 'M3'): 0.367606854802026,\n",
       " ('WP', '2'): -0.04812149848976178,\n",
       " ('WP', '5'): -0.5644076306067354,\n",
       " ('WP', '9'): 0.5765532399727695,\n",
       " ('WT1', '3'): -0.25240515340489683}"
      ]
     },
     "execution_count": 53,
     "metadata": {},
     "output_type": "execute_result"
    }
   ],
   "source": [
    "mlr_corrs"
   ]
  },
  {
   "cell_type": "code",
   "execution_count": 54,
   "metadata": {},
   "outputs": [
    {
     "data": {
      "text/plain": [
       "{('1045', 'M1'): 0.3452146808031119,\n",
       " ('1045', 'M7'): -0.5419723716811711,\n",
       " ('1046', 'M3'): 0.5180829776928184,\n",
       " ('1046', 'P3'): -0.1403140697001332,\n",
       " ('1046', 'P5'): -0.33638458954814615,\n",
       " ('1047', '3'): -0.34816189162173583,\n",
       " ('1047', '5'): 0.45679737152638916,\n",
       " ('1047', '7'): -0.22556333990171382,\n",
       " ('1054', '1'): -0.11370362650178137,\n",
       " ('1054', '3'): 0.055734935017301764,\n",
       " ('1054', '5'): 0.1917728921768978,\n",
       " ('1057', '1'): 0.4430545641050746,\n",
       " ('1057', '3'): 0.5145250141189377,\n",
       " ('1057', '5'): -0.5241383449244879,\n",
       " ('1061', '1'): -0.0644278722854242,\n",
       " ('1064', '1'): -0.03645831972032812,\n",
       " ('1367', '1'): -0.18968777007216342,\n",
       " ('1367', '5'): 0.33011109163799923,\n",
       " ('1367', '7'): 0.4291717369318446,\n",
       " ('2944', 'E1'): -0.5163993267181171,\n",
       " ('2944', 'E3'): -0.3436133599025522,\n",
       " ('2944', 'E7'): -0.3398503923273708,\n",
       " ('2944', 'M1'): -0.6569401097606475,\n",
       " ('2944', 'M3'): 0.16476953272646017,\n",
       " ('WP', '2'): -0.31250916892888736,\n",
       " ('WP', '4'): 0.6292536115877235,\n",
       " ('WP', '5'): -0.27468691766324815,\n",
       " ('WP', '9'): 0.6414184392552554,\n",
       " ('WT1', '1'): 0.4581949442448282,\n",
       " ('WT1', '3'): 0.02473888454024515,\n",
       " ('WT1', '7'): -0.21870724050468296}"
      ]
     },
     "execution_count": 54,
     "metadata": {},
     "output_type": "execute_result"
    }
   ],
   "source": [
    "mhs_corrs"
   ]
  },
  {
   "cell_type": "code",
   "execution_count": 55,
   "metadata": {},
   "outputs": [
    {
     "name": "stderr",
     "output_type": "stream",
     "text": [
      "C:\\Users\\mpinkert\\AppData\\Local\\Continuum\\anaconda3\\envs\\pyimagej\\lib\\site-packages\\pycircstat\\decorators.py:31: RuntimeWarning: invalid value encountered in double_scalars\n",
      "  return ret % (2 * np.pi)\n",
      "C:\\Users\\mpinkert\\AppData\\Local\\Continuum\\anaconda3\\envs\\pyimagej\\lib\\site-packages\\pycircstat\\decorators.py:23: RuntimeWarning: invalid value encountered in remainder\n",
      "  ret2.append(r % (2 * np.pi))\n"
     ]
    }
   ],
   "source": [
    "corrs_orient, corrs_align = dan.fib_comparison(0, 2, 0)"
   ]
  },
  {
   "cell_type": "code",
   "execution_count": null,
   "metadata": {},
   "outputs": [],
   "source": [
    "corrs_orient.describe()"
   ]
  },
  {
   "cell_type": "code",
   "execution_count": null,
   "metadata": {},
   "outputs": [],
   "source": [
    "corrs_orient_old, corrs_align_old, corrs_ret_old = dan.run_roi_averages_comparison(0)"
   ]
  },
  {
   "cell_type": "code",
   "execution_count": null,
   "metadata": {},
   "outputs": [],
   "source": [
    "corrs_orient_old.describe()"
   ]
  },
  {
   "cell_type": "code",
   "execution_count": null,
   "metadata": {},
   "outputs": [],
   "source": [
    "corrs_ret_old.describe()"
   ]
  },
  {
   "cell_type": "code",
   "execution_count": 83,
   "metadata": {},
   "outputs": [],
   "source": [
    "df_orient_old, df_align_old, df_ret_old = dan.get_average_dfs(path_shg, path_avg_old, 0.5)"
   ]
  },
  {
   "cell_type": "code",
   "execution_count": 84,
   "metadata": {},
   "outputs": [],
   "source": [
    "mhr_old_shg = df_orient_old[['MHR-O', 'SHG']].dropna()\n",
    "mlr_old_shg = df_orient_old[['MLR-O', 'SHG']].dropna()\n",
    "mhr_old_mlr = df_orient_old[['MHR-O', 'MLR-O']].dropna()"
   ]
  },
  {
   "cell_type": "code",
   "execution_count": 85,
   "metadata": {},
   "outputs": [],
   "source": [
    "hs_old_corrs = an.find_circular_correlations(mhr_old_shg)\n",
    "ls_old_corrs = an.find_circular_correlations(mlr_old_shg)\n",
    "hl_old_corrs = an.find_circular_correlations(mhr_old_mlr)\n"
   ]
  },
  {
   "cell_type": "code",
   "execution_count": 86,
   "metadata": {
    "scrolled": true
   },
   "outputs": [
    {
     "data": {
      "text/plain": [
       "count    30.000000\n",
       "mean      0.083363\n",
       "std       0.265386\n",
       "min      -0.498995\n",
       "25%      -0.080136\n",
       "50%       0.055496\n",
       "75%       0.232314\n",
       "max       0.613268\n",
       "dtype: float64"
      ]
     },
     "execution_count": 86,
     "metadata": {},
     "output_type": "execute_result"
    }
   ],
   "source": [
    "pd.Series(hs_old_corrs).describe()"
   ]
  },
  {
   "cell_type": "code",
   "execution_count": 111,
   "metadata": {},
   "outputs": [
    {
     "data": {
      "text/plain": [
       "count    8.000000\n",
       "mean     0.307960\n",
       "std      0.317028\n",
       "min     -0.210210\n",
       "25%      0.173116\n",
       "50%      0.437215\n",
       "75%      0.515586\n",
       "max      0.613268\n",
       "dtype: float64"
      ]
     },
     "execution_count": 111,
     "metadata": {},
     "output_type": "execute_result"
    }
   ],
   "source": [
    "m1 = pd.Series(hs_old_corrs).xs('1057', level=0)\n",
    "m2 = pd.Series(hs_old_corrs).xs('1045', level=0)\n",
    "m3 = pd.Series(hs_old_corrs).xs('1054', level=0)\n",
    "hs_col1_corrs = pd.concat([m1, m2, m3], keys=['m1', 'm2', 'm3'])\n",
    "hs_col1_corrs.describe()"
   ]
  },
  {
   "cell_type": "code",
   "execution_count": 113,
   "metadata": {},
   "outputs": [
    {
     "data": {
      "text/plain": [
       "count    22.000000\n",
       "mean      0.001691\n",
       "std       0.193786\n",
       "min      -0.498995\n",
       "25%      -0.080136\n",
       "50%       0.015402\n",
       "75%       0.117594\n",
       "max       0.402099\n",
       "dtype: float64"
      ]
     },
     "execution_count": 113,
     "metadata": {},
     "output_type": "execute_result"
    }
   ],
   "source": [
    "hs_wt_corrs = pd.Series(hs_old_corrs).drop(['1045', '1054', '1057'])\n",
    "hs_wt_corrs.describe()"
   ]
  },
  {
   "cell_type": "code",
   "execution_count": 118,
   "metadata": {},
   "outputs": [],
   "source": [
    "def calculate_fisher_weighted_mean_correlation(series):\n",
    "        Z = 0.5*np.log((1+series)/(1-series))\n",
    "        zbar = np.mean(Z)\n",
    "        r = (np.exp(zbar) - np.exp(-zbar)) / (np.exp(zbar) + np.exp(-zbar))\n",
    "        return r\n"
   ]
  },
  {
   "cell_type": "code",
   "execution_count": 121,
   "metadata": {},
   "outputs": [
    {
     "data": {
      "text/plain": [
       "0.0004554416577572524"
      ]
     },
     "execution_count": 121,
     "metadata": {},
     "output_type": "execute_result"
    }
   ],
   "source": [
    "hs_wt_r = calculate_fisher_weighted_mean_correlation(hs_wt_corrs)\n",
    "hs_wt_r"
   ]
  },
  {
   "cell_type": "code",
   "execution_count": 120,
   "metadata": {},
   "outputs": [
    {
     "data": {
      "text/plain": [
       "0.33095029391502795"
      ]
     },
     "execution_count": 120,
     "metadata": {},
     "output_type": "execute_result"
    }
   ],
   "source": [
    "hs_col1_r = calculate_fisher_weighted_mean_correlation(hs_col1_corrs)\n",
    "hs_col1_r"
   ]
  },
  {
   "cell_type": "code",
   "execution_count": 87,
   "metadata": {},
   "outputs": [
    {
     "data": {
      "text/plain": [
       "count    21.000000\n",
       "mean      0.125257\n",
       "std       0.210444\n",
       "min      -0.245842\n",
       "25%      -0.001399\n",
       "50%       0.120628\n",
       "75%       0.208361\n",
       "max       0.530395\n",
       "dtype: float64"
      ]
     },
     "execution_count": 87,
     "metadata": {},
     "output_type": "execute_result"
    }
   ],
   "source": [
    "pd.Series(ls_old_corrs).describe()"
   ]
  },
  {
   "cell_type": "code",
   "execution_count": 114,
   "metadata": {},
   "outputs": [
    {
     "data": {
      "text/plain": [
       "count    5.000000\n",
       "mean     0.267991\n",
       "std      0.316573\n",
       "min     -0.224075\n",
       "25%      0.145452\n",
       "50%      0.363930\n",
       "75%      0.524250\n",
       "max      0.530395\n",
       "dtype: float64"
      ]
     },
     "execution_count": 114,
     "metadata": {},
     "output_type": "execute_result"
    }
   ],
   "source": [
    "m1l = pd.Series(ls_old_corrs).xs('1057', level=0)\n",
    "m2l = pd.Series(ls_old_corrs).xs('1045', level=0)\n",
    "m3l = pd.Series(ls_old_corrs).xs('1054', level=0)\n",
    "ls_col1_corrs = pd.concat([m1l, m2l, m3l], keys=['m1', 'm2', 'm3'])\n",
    "ls_col1_corrs.describe()"
   ]
  },
  {
   "cell_type": "code",
   "execution_count": 115,
   "metadata": {},
   "outputs": [
    {
     "data": {
      "text/plain": [
       "count    16.000000\n",
       "mean      0.080653\n",
       "std       0.153006\n",
       "min      -0.245842\n",
       "25%      -0.004556\n",
       "50%       0.102479\n",
       "75%       0.202044\n",
       "max       0.316426\n",
       "dtype: float64"
      ]
     },
     "execution_count": 115,
     "metadata": {},
     "output_type": "execute_result"
    }
   ],
   "source": [
    "ls_wt_corrs = pd.Series(ls_old_corrs).drop(['1045', '1054', '1057'])\n",
    "ls_wt_corrs.describe()"
   ]
  },
  {
   "cell_type": "code",
   "execution_count": 88,
   "metadata": {
    "scrolled": true
   },
   "outputs": [
    {
     "data": {
      "text/plain": [
       "count    20.000000\n",
       "mean      0.518496\n",
       "std       0.389098\n",
       "min      -0.381754\n",
       "25%       0.219721\n",
       "50%       0.554240\n",
       "75%       0.865275\n",
       "max       0.954363\n",
       "dtype: float64"
      ]
     },
     "execution_count": 88,
     "metadata": {},
     "output_type": "execute_result"
    }
   ],
   "source": [
    "pd.Series(hl_old_corrs).describe()"
   ]
  },
  {
   "cell_type": "code",
   "execution_count": 116,
   "metadata": {},
   "outputs": [
    {
     "data": {
      "text/plain": [
       "count    5.000000\n",
       "mean     0.817614\n",
       "std      0.213750\n",
       "min      0.439988\n",
       "25%      0.860080\n",
       "50%      0.905314\n",
       "75%      0.936826\n",
       "max      0.945864\n",
       "dtype: float64"
      ]
     },
     "execution_count": 116,
     "metadata": {},
     "output_type": "execute_result"
    }
   ],
   "source": [
    "m1hl = pd.Series(hl_old_corrs).xs('1057', level=0)\n",
    "m2hl = pd.Series(hl_old_corrs).xs('1045', level=0)\n",
    "m3hl = pd.Series(hl_old_corrs).xs('1054', level=0)\n",
    "hl_col1_corrs = pd.concat([m1hl, m2hl, m3hl], keys=['m1', 'm2', 'm3'])\n",
    "hl_col1_corrs.describe()"
   ]
  },
  {
   "cell_type": "code",
   "execution_count": 117,
   "metadata": {},
   "outputs": [
    {
     "data": {
      "text/plain": [
       "count    15.000000\n",
       "mean      0.418790\n",
       "std       0.387051\n",
       "min      -0.381754\n",
       "25%       0.097796\n",
       "50%       0.471589\n",
       "75%       0.730871\n",
       "max       0.954363\n",
       "dtype: float64"
      ]
     },
     "execution_count": 117,
     "metadata": {},
     "output_type": "execute_result"
    }
   ],
   "source": [
    "hl_wt_corrs = pd.Series(hl_old_corrs).drop(['1045', '1054', '1057'])\n",
    "hl_wt_corrs.describe()"
   ]
  },
  {
   "cell_type": "code",
   "execution_count": 62,
   "metadata": {
    "scrolled": true
   },
   "outputs": [
    {
     "data": {
      "text/plain": [
       "{('1045', 'M1'): 0.941707917565788,\n",
       " ('1046', 'M3'): 0.22453388787450979,\n",
       " ('1046', 'P3'): -0.4433586577593185,\n",
       " ('1046', 'P5'): 0.5441806020750478,\n",
       " ('1047', '3'): 0.4465052320445006,\n",
       " ('1047', '5'): 0.8655790844002608,\n",
       " ('1047', '7'): 0.8009239152461906,\n",
       " ('1054', '1'): 0.6275989545886458,\n",
       " ('1054', '3'): 0.9612304085291709,\n",
       " ('1054', '5'): 0.9489839935326584,\n",
       " ('1057', '1'): 0.924660096048132,\n",
       " ('1367', '5'): 0.9668482755763301,\n",
       " ('1367', '7'): 0.4232724937373167,\n",
       " ('2944', 'E1'): 0.9204694742404296,\n",
       " ('2944', 'M1'): 0.728145614329335,\n",
       " ('2944', 'M3'): 0.2229810444300824,\n",
       " ('2944', 'M7'): 0.3760612608068786,\n",
       " ('WP', '9'): -0.012789059895157792,\n",
       " ('WT1', '1'): -0.2510443700786263,\n",
       " ('WT1', '3'): 0.887254533059665}"
      ]
     },
     "execution_count": 62,
     "metadata": {},
     "output_type": "execute_result"
    }
   ],
   "source": [
    "hl_old_corrs"
   ]
  },
  {
   "cell_type": "code",
   "execution_count": 63,
   "metadata": {},
   "outputs": [
    {
     "data": {
      "text/plain": [
       "{('1045', 'M1'): -0.25567925762345245,\n",
       " ('1045', 'M7'): -0.2469789508549623,\n",
       " ('1046', 'M3'): -0.0910129684921362,\n",
       " ('1046', 'P3'): -0.18830367246107704,\n",
       " ('1046', 'P5'): 0.10997980282805836,\n",
       " ('1047', '3'): 0.015591869130292316,\n",
       " ('1047', '5'): 0.1100967961081441,\n",
       " ('1047', '7'): 0.2507452658432661,\n",
       " ('1054', '1'): 0.4577642507844935,\n",
       " ('1054', '3'): 0.4878459387019455,\n",
       " ('1054', '5'): 0.6546818456152763,\n",
       " ('1057', '1'): 0.5735049937860873,\n",
       " ('1057', '3'): 0.538821571810679,\n",
       " ('1057', '5'): 0.49201699649417535,\n",
       " ('1061', '1'): 0.4154022891742846,\n",
       " ('1064', '1'): -0.1710209995109955,\n",
       " ('1367', '1'): -0.02380946799963031,\n",
       " ('1367', '5'): 0.045897203166336685,\n",
       " ('1367', '7'): 0.024507937592983003,\n",
       " ('2944', 'E1'): 0.16879302171512275,\n",
       " ('2944', 'E7'): 0.17448267408637483,\n",
       " ('2944', 'M1'): -0.25727728978298736,\n",
       " ('2944', 'M3'): -0.13425684568027954,\n",
       " ('WP', '2'): 0.01617077613887555,\n",
       " ('WP', '4'): -0.5066833573259079,\n",
       " ('WP', '5'): -0.10546374222720813,\n",
       " ('WP', '9'): -0.01234430254447976,\n",
       " ('WT1', '1'): 0.010780075140569336,\n",
       " ('WT1', '3'): 0.12197651211135999,\n",
       " ('WT1', '7'): -0.06954688732842337}"
      ]
     },
     "execution_count": 63,
     "metadata": {},
     "output_type": "execute_result"
    }
   ],
   "source": [
    "hs_old_corrs"
   ]
  },
  {
   "cell_type": "code",
   "execution_count": 64,
   "metadata": {},
   "outputs": [
    {
     "data": {
      "text/plain": [
       "{('1045', 'M1'): -0.21821779501156413,\n",
       " ('1046', 'M3'): 0.2066051597962717,\n",
       " ('1046', 'P3'): 0.23655731741670566,\n",
       " ('1046', 'P5'): 0.13886818901421935,\n",
       " ('1047', '3'): -0.0039033598584965567,\n",
       " ('1047', '5'): 0.28189241221104244,\n",
       " ('1047', '7'): 0.01744701864174038,\n",
       " ('1054', '1'): 0.10942571066305157,\n",
       " ('1054', '3'): 0.3549877523856998,\n",
       " ('1054', '5'): 0.6026450536418422,\n",
       " ('1057', '1'): 0.5211077757669678,\n",
       " ('1367', '3'): 0.020229377900109865,\n",
       " ('1367', '5'): 0.05535539528034995,\n",
       " ('1367', '7'): -0.09605491904775236,\n",
       " ('2944', 'E1'): 0.15598385468334344,\n",
       " ('2944', 'M1'): 0.05635965031986353,\n",
       " ('2944', 'M3'): -0.11020605984883004,\n",
       " ('WP', '9'): 0.006469442189002204,\n",
       " ('WT1', '1'): 0.054785039694706265,\n",
       " ('WT1', '3'): 0.20288353950578636}"
      ]
     },
     "execution_count": 64,
     "metadata": {},
     "output_type": "execute_result"
    }
   ],
   "source": [
    "ls_old_corrs"
   ]
  },
  {
   "cell_type": "code",
   "execution_count": null,
   "metadata": {},
   "outputs": [],
   "source": []
  }
 ],
 "metadata": {
  "kernelspec": {
   "display_name": "Python 3",
   "language": "python",
   "name": "python3"
  },
  "language_info": {
   "codemirror_mode": {
    "name": "ipython",
    "version": 3
   },
   "file_extension": ".py",
   "mimetype": "text/x-python",
   "name": "python",
   "nbconvert_exporter": "python",
   "pygments_lexer": "ipython3",
   "version": "3.6.6"
  }
 },
 "nbformat": 4,
 "nbformat_minor": 2
}
